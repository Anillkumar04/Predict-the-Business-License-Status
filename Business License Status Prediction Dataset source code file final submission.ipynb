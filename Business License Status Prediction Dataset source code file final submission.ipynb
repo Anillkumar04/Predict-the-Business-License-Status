{
 "cells": [
  {
   "cell_type": "markdown",
   "metadata": {},
   "source": [
    "# Predict the Business License Status Dataset\n",
    "\n",
    "## The Aim is to perform a multi-class classification of the business license status of various users, from the given dataset.\n",
    "\n",
    "\n",
    "### Problem Statement\n",
    "Many of us have dreams what if I become the founder of a start-up and can lead it to become a big business like Microsoft, or Facebook/Amazon. But again there are many people who cheat people to run their business, probably everyone has heard about cheat-funds. This dataset contains a lot of data and the ‘LICENSE STATUS’ column which depicts whether the person has been able to get a business license or not. Based on the given features you have to predict whether a person will be given a license or not to run his business. The ‘LICENSE STATUS’ contains the following categories:\n",
    "\n",
    "AAC (license was cancelled during term)\n",
    "\n",
    "AAI (license was issued)\n",
    "\n",
    "INQ (license requires inquiry)\n",
    "\n",
    "REA (license revocation has been appealed)\n",
    "\n",
    "REV (license was revoked)\n",
    "\n",
    "You have to predict the column “LICENSE STATUS” and please submit in the format given in the “sample_submissions.csv” file.\n",
    "\n",
    "\n",
    "## Evaluation Criterion\n",
    "## The evaluation criteria is the f1- score with ‘weighted ’ average."
   ]
  },
  {
   "cell_type": "markdown",
   "metadata": {},
   "source": [
    "### Loading required libraries"
   ]
  },
  {
   "cell_type": "code",
   "execution_count": 1,
   "metadata": {},
   "outputs": [],
   "source": [
    "import pandas as pd\n",
    "import numpy as np\n"
   ]
  },
  {
   "cell_type": "markdown",
   "metadata": {},
   "source": [
    "### Loading the data"
   ]
  },
  {
   "cell_type": "code",
   "execution_count": 2,
   "metadata": {},
   "outputs": [
    {
     "name": "stderr",
     "output_type": "stream",
     "text": [
      "C:\\Users\\mypc\\Anaconda3\\lib\\site-packages\\IPython\\core\\interactiveshell.py:3051: DtypeWarning: Columns (9) have mixed types. Specify dtype option on import or set low_memory=False.\n",
      "  interactivity=interactivity, compiler=compiler, result=result)\n"
     ]
    },
    {
     "data": {
      "text/html": [
       "<div>\n",
       "<style scoped>\n",
       "    .dataframe tbody tr th:only-of-type {\n",
       "        vertical-align: middle;\n",
       "    }\n",
       "\n",
       "    .dataframe tbody tr th {\n",
       "        vertical-align: top;\n",
       "    }\n",
       "\n",
       "    .dataframe thead th {\n",
       "        text-align: right;\n",
       "    }\n",
       "</style>\n",
       "<table border=\"1\" class=\"dataframe\">\n",
       "  <thead>\n",
       "    <tr style=\"text-align: right;\">\n",
       "      <th></th>\n",
       "      <th>ID</th>\n",
       "      <th>LICENSE ID</th>\n",
       "      <th>ACCOUNT NUMBER</th>\n",
       "      <th>SITE NUMBER</th>\n",
       "      <th>LEGAL NAME</th>\n",
       "      <th>DOING BUSINESS AS NAME</th>\n",
       "      <th>ADDRESS</th>\n",
       "      <th>CITY</th>\n",
       "      <th>STATE</th>\n",
       "      <th>ZIP CODE</th>\n",
       "      <th>...</th>\n",
       "      <th>LICENSE TERM START DATE</th>\n",
       "      <th>LICENSE TERM EXPIRATION DATE</th>\n",
       "      <th>LICENSE APPROVED FOR ISSUANCE</th>\n",
       "      <th>DATE ISSUED</th>\n",
       "      <th>LICENSE STATUS CHANGE DATE</th>\n",
       "      <th>SSA</th>\n",
       "      <th>LATITUDE</th>\n",
       "      <th>LONGITUDE</th>\n",
       "      <th>LOCATION</th>\n",
       "      <th>LICENSE STATUS</th>\n",
       "    </tr>\n",
       "  </thead>\n",
       "  <tbody>\n",
       "    <tr>\n",
       "      <th>0</th>\n",
       "      <td>35342-20020816</td>\n",
       "      <td>1256593</td>\n",
       "      <td>32811</td>\n",
       "      <td>1</td>\n",
       "      <td>CARMEN CAHUE</td>\n",
       "      <td>CLAUDIA'S BRIDAL SHOP</td>\n",
       "      <td>2625 S CENTRAL PARK AVE  1</td>\n",
       "      <td>CHICAGO</td>\n",
       "      <td>IL</td>\n",
       "      <td>60623.0</td>\n",
       "      <td>...</td>\n",
       "      <td>2002-08-16T00:00:00</td>\n",
       "      <td>2003-08-15T00:00:00</td>\n",
       "      <td>2002-08-21T00:00:00</td>\n",
       "      <td>2006-04-11T00:00:00</td>\n",
       "      <td>NaN</td>\n",
       "      <td>25.0</td>\n",
       "      <td>41.843613</td>\n",
       "      <td>-87.714618</td>\n",
       "      <td>{'latitude': '41.843612879431845', 'longitude'...</td>\n",
       "      <td>AAI</td>\n",
       "    </tr>\n",
       "    <tr>\n",
       "      <th>1</th>\n",
       "      <td>1358463-20051116</td>\n",
       "      <td>1639294</td>\n",
       "      <td>262311</td>\n",
       "      <td>29</td>\n",
       "      <td>ISLA TROPICAL, INC.</td>\n",
       "      <td>ISLA TROPICAL</td>\n",
       "      <td>2825 W MONTROSE AVE</td>\n",
       "      <td>CHICAGO</td>\n",
       "      <td>IL</td>\n",
       "      <td>60618</td>\n",
       "      <td>...</td>\n",
       "      <td>2005-11-16T00:00:00</td>\n",
       "      <td>2006-11-15T00:00:00</td>\n",
       "      <td>2006-04-05T00:00:00</td>\n",
       "      <td>2006-06-12T00:00:00</td>\n",
       "      <td>2006-06-15T00:00:00</td>\n",
       "      <td>60.0</td>\n",
       "      <td>41.961132</td>\n",
       "      <td>-87.699626</td>\n",
       "      <td>{'latitude': '41.96113244107215', 'longitude':...</td>\n",
       "      <td>AAC</td>\n",
       "    </tr>\n",
       "    <tr>\n",
       "      <th>2</th>\n",
       "      <td>1980233-20090722</td>\n",
       "      <td>1980233</td>\n",
       "      <td>345008</td>\n",
       "      <td>1</td>\n",
       "      <td>DJS REMODELING</td>\n",
       "      <td>DJS REMODELING, INC.</td>\n",
       "      <td>1605  CLAVEY RD 1</td>\n",
       "      <td>HIGHLAND</td>\n",
       "      <td>IL</td>\n",
       "      <td>60035</td>\n",
       "      <td>...</td>\n",
       "      <td>2009-07-22T00:00:00</td>\n",
       "      <td>2011-07-15T00:00:00</td>\n",
       "      <td>2009-07-22T00:00:00</td>\n",
       "      <td>2009-07-22T00:00:00</td>\n",
       "      <td>NaN</td>\n",
       "      <td>NaN</td>\n",
       "      <td>NaN</td>\n",
       "      <td>NaN</td>\n",
       "      <td>NaN</td>\n",
       "      <td>AAI</td>\n",
       "    </tr>\n",
       "    <tr>\n",
       "      <th>3</th>\n",
       "      <td>1476582-20040211</td>\n",
       "      <td>1476582</td>\n",
       "      <td>273121</td>\n",
       "      <td>1</td>\n",
       "      <td>ALL-BRY CONSTRUCTION CO.</td>\n",
       "      <td>ALL-BRY CONSTRUCTION CO.</td>\n",
       "      <td>8  NORTH TRAIL</td>\n",
       "      <td>LEMONT</td>\n",
       "      <td>IL</td>\n",
       "      <td>60439</td>\n",
       "      <td>...</td>\n",
       "      <td>2004-02-11T00:00:00</td>\n",
       "      <td>2005-02-15T00:00:00</td>\n",
       "      <td>2004-02-10T00:00:00</td>\n",
       "      <td>2004-02-11T00:00:00</td>\n",
       "      <td>NaN</td>\n",
       "      <td>NaN</td>\n",
       "      <td>NaN</td>\n",
       "      <td>NaN</td>\n",
       "      <td>NaN</td>\n",
       "      <td>AAI</td>\n",
       "    </tr>\n",
       "    <tr>\n",
       "      <th>4</th>\n",
       "      <td>1141408-20080516</td>\n",
       "      <td>1896750</td>\n",
       "      <td>213785</td>\n",
       "      <td>1</td>\n",
       "      <td>MCDONOUGH MECHANICAL SERVICE</td>\n",
       "      <td>MCDONOUGH MECHANICAL SERVICE</td>\n",
       "      <td>4081  JOSEPH DR</td>\n",
       "      <td>WAUKEGAN</td>\n",
       "      <td>IL</td>\n",
       "      <td>60087</td>\n",
       "      <td>...</td>\n",
       "      <td>2008-05-16T00:00:00</td>\n",
       "      <td>2010-05-15T00:00:00</td>\n",
       "      <td>2008-06-04T00:00:00</td>\n",
       "      <td>2008-06-05T00:00:00</td>\n",
       "      <td>NaN</td>\n",
       "      <td>NaN</td>\n",
       "      <td>NaN</td>\n",
       "      <td>NaN</td>\n",
       "      <td>NaN</td>\n",
       "      <td>AAI</td>\n",
       "    </tr>\n",
       "  </tbody>\n",
       "</table>\n",
       "<p>5 rows × 32 columns</p>\n",
       "</div>"
      ],
      "text/plain": [
       "                 ID  LICENSE ID  ACCOUNT NUMBER  SITE NUMBER  \\\n",
       "0    35342-20020816     1256593           32811            1   \n",
       "1  1358463-20051116     1639294          262311           29   \n",
       "2  1980233-20090722     1980233          345008            1   \n",
       "3  1476582-20040211     1476582          273121            1   \n",
       "4  1141408-20080516     1896750          213785            1   \n",
       "\n",
       "                     LEGAL NAME        DOING BUSINESS AS NAME  \\\n",
       "0                  CARMEN CAHUE         CLAUDIA'S BRIDAL SHOP   \n",
       "1           ISLA TROPICAL, INC.                 ISLA TROPICAL   \n",
       "2                DJS REMODELING          DJS REMODELING, INC.   \n",
       "3      ALL-BRY CONSTRUCTION CO.      ALL-BRY CONSTRUCTION CO.   \n",
       "4  MCDONOUGH MECHANICAL SERVICE  MCDONOUGH MECHANICAL SERVICE   \n",
       "\n",
       "                      ADDRESS      CITY STATE ZIP CODE  ...  \\\n",
       "0  2625 S CENTRAL PARK AVE  1   CHICAGO    IL  60623.0  ...   \n",
       "1         2825 W MONTROSE AVE   CHICAGO    IL    60618  ...   \n",
       "2           1605  CLAVEY RD 1  HIGHLAND    IL    60035  ...   \n",
       "3              8  NORTH TRAIL    LEMONT    IL    60439  ...   \n",
       "4             4081  JOSEPH DR  WAUKEGAN    IL    60087  ...   \n",
       "\n",
       "   LICENSE TERM START DATE  LICENSE TERM EXPIRATION DATE  \\\n",
       "0      2002-08-16T00:00:00           2003-08-15T00:00:00   \n",
       "1      2005-11-16T00:00:00           2006-11-15T00:00:00   \n",
       "2      2009-07-22T00:00:00           2011-07-15T00:00:00   \n",
       "3      2004-02-11T00:00:00           2005-02-15T00:00:00   \n",
       "4      2008-05-16T00:00:00           2010-05-15T00:00:00   \n",
       "\n",
       "  LICENSE APPROVED FOR ISSUANCE          DATE ISSUED  \\\n",
       "0           2002-08-21T00:00:00  2006-04-11T00:00:00   \n",
       "1           2006-04-05T00:00:00  2006-06-12T00:00:00   \n",
       "2           2009-07-22T00:00:00  2009-07-22T00:00:00   \n",
       "3           2004-02-10T00:00:00  2004-02-11T00:00:00   \n",
       "4           2008-06-04T00:00:00  2008-06-05T00:00:00   \n",
       "\n",
       "   LICENSE STATUS CHANGE DATE   SSA   LATITUDE  LONGITUDE  \\\n",
       "0                         NaN  25.0  41.843613 -87.714618   \n",
       "1         2006-06-15T00:00:00  60.0  41.961132 -87.699626   \n",
       "2                         NaN   NaN        NaN        NaN   \n",
       "3                         NaN   NaN        NaN        NaN   \n",
       "4                         NaN   NaN        NaN        NaN   \n",
       "\n",
       "                                            LOCATION LICENSE STATUS  \n",
       "0  {'latitude': '41.843612879431845', 'longitude'...            AAI  \n",
       "1  {'latitude': '41.96113244107215', 'longitude':...            AAC  \n",
       "2                                                NaN            AAI  \n",
       "3                                                NaN            AAI  \n",
       "4                                                NaN            AAI  \n",
       "\n",
       "[5 rows x 32 columns]"
      ]
     },
     "execution_count": 2,
     "metadata": {},
     "output_type": "execute_result"
    }
   ],
   "source": [
    "train_data = pd.read_csv(\"train_file.csv\")\n",
    "train_data.head()"
   ]
  },
  {
   "cell_type": "code",
   "execution_count": 3,
   "metadata": {},
   "outputs": [
    {
     "data": {
      "text/plain": [
       "(85895, 32)"
      ]
     },
     "execution_count": 3,
     "metadata": {},
     "output_type": "execute_result"
    }
   ],
   "source": [
    "train_data.shape"
   ]
  },
  {
   "cell_type": "code",
   "execution_count": 4,
   "metadata": {},
   "outputs": [
    {
     "data": {
      "text/html": [
       "<div>\n",
       "<style scoped>\n",
       "    .dataframe tbody tr th:only-of-type {\n",
       "        vertical-align: middle;\n",
       "    }\n",
       "\n",
       "    .dataframe tbody tr th {\n",
       "        vertical-align: top;\n",
       "    }\n",
       "\n",
       "    .dataframe thead th {\n",
       "        text-align: right;\n",
       "    }\n",
       "</style>\n",
       "<table border=\"1\" class=\"dataframe\">\n",
       "  <thead>\n",
       "    <tr style=\"text-align: right;\">\n",
       "      <th></th>\n",
       "      <th>ID</th>\n",
       "      <th>LICENSE ID</th>\n",
       "      <th>ACCOUNT NUMBER</th>\n",
       "      <th>SITE NUMBER</th>\n",
       "      <th>LEGAL NAME</th>\n",
       "      <th>DOING BUSINESS AS NAME</th>\n",
       "      <th>ADDRESS</th>\n",
       "      <th>CITY</th>\n",
       "      <th>STATE</th>\n",
       "      <th>ZIP CODE</th>\n",
       "      <th>...</th>\n",
       "      <th>CONDITIONAL APPROVAL</th>\n",
       "      <th>LICENSE TERM START DATE</th>\n",
       "      <th>LICENSE TERM EXPIRATION DATE</th>\n",
       "      <th>LICENSE APPROVED FOR ISSUANCE</th>\n",
       "      <th>DATE ISSUED</th>\n",
       "      <th>LICENSE STATUS CHANGE DATE</th>\n",
       "      <th>SSA</th>\n",
       "      <th>LATITUDE</th>\n",
       "      <th>LONGITUDE</th>\n",
       "      <th>LOCATION</th>\n",
       "    </tr>\n",
       "  </thead>\n",
       "  <tbody>\n",
       "    <tr>\n",
       "      <th>0</th>\n",
       "      <td>1516615-20120216</td>\n",
       "      <td>2132209</td>\n",
       "      <td>280120</td>\n",
       "      <td>1</td>\n",
       "      <td>RS HOMES I LLC</td>\n",
       "      <td>RS HOMES I LLC</td>\n",
       "      <td>350 W HUBBARD ST 3 300</td>\n",
       "      <td>CHICAGO</td>\n",
       "      <td>IL</td>\n",
       "      <td>60610.0</td>\n",
       "      <td>...</td>\n",
       "      <td>N</td>\n",
       "      <td>2012-02-16T00:00:00</td>\n",
       "      <td>2014-02-15T00:00:00</td>\n",
       "      <td>2012-01-19T00:00:00</td>\n",
       "      <td>2012-01-20T00:00:00</td>\n",
       "      <td>2012-12-29T00:00:00</td>\n",
       "      <td>NaN</td>\n",
       "      <td>41.890047</td>\n",
       "      <td>-87.637467</td>\n",
       "      <td>{'latitude': '41.89004724888915', 'longitude':...</td>\n",
       "    </tr>\n",
       "    <tr>\n",
       "      <th>1</th>\n",
       "      <td>69813-20110616</td>\n",
       "      <td>2090759</td>\n",
       "      <td>65043</td>\n",
       "      <td>1</td>\n",
       "      <td>CSX INTERMODAL INC</td>\n",
       "      <td>CSX INTERMODAL</td>\n",
       "      <td>2101 W 59TH ST 1ST</td>\n",
       "      <td>CHICAGO</td>\n",
       "      <td>IL</td>\n",
       "      <td>60636.0</td>\n",
       "      <td>...</td>\n",
       "      <td>N</td>\n",
       "      <td>2011-06-16T00:00:00</td>\n",
       "      <td>2013-06-15T00:00:00</td>\n",
       "      <td>2012-11-02T00:00:00</td>\n",
       "      <td>2012-11-05T00:00:00</td>\n",
       "      <td>2012-12-29T00:00:00</td>\n",
       "      <td>NaN</td>\n",
       "      <td>41.786485</td>\n",
       "      <td>-87.676665</td>\n",
       "      <td>{'latitude': '41.786485235679486', 'longitude'...</td>\n",
       "    </tr>\n",
       "    <tr>\n",
       "      <th>2</th>\n",
       "      <td>1519227-20041116</td>\n",
       "      <td>1541990</td>\n",
       "      <td>281270</td>\n",
       "      <td>1</td>\n",
       "      <td>LOCOMIBILE  LOFTS LLC</td>\n",
       "      <td>LOCOMOBILE LOFTS LLC</td>\n",
       "      <td>1133 S WABASH AVE 1ST</td>\n",
       "      <td>CHICAGO</td>\n",
       "      <td>IL</td>\n",
       "      <td>60605.0</td>\n",
       "      <td>...</td>\n",
       "      <td>N</td>\n",
       "      <td>2004-11-16T00:00:00</td>\n",
       "      <td>2005-11-15T00:00:00</td>\n",
       "      <td>2004-12-06T00:00:00</td>\n",
       "      <td>2004-12-07T00:00:00</td>\n",
       "      <td>NaN</td>\n",
       "      <td>NaN</td>\n",
       "      <td>41.868269</td>\n",
       "      <td>-87.625695</td>\n",
       "      <td>{'latitude': '41.86826924843568', 'longitude':...</td>\n",
       "    </tr>\n",
       "    <tr>\n",
       "      <th>3</th>\n",
       "      <td>1922025-20100816</td>\n",
       "      <td>2041053</td>\n",
       "      <td>335243</td>\n",
       "      <td>1</td>\n",
       "      <td>ANNA F. JAMISON</td>\n",
       "      <td>ANNA F. JAMISON</td>\n",
       "      <td>13156 S FORRESTVILLE AVE</td>\n",
       "      <td>CHICAGO</td>\n",
       "      <td>IL</td>\n",
       "      <td>60827.0</td>\n",
       "      <td>...</td>\n",
       "      <td>N</td>\n",
       "      <td>2010-08-16T00:00:00</td>\n",
       "      <td>2012-08-15T00:00:00</td>\n",
       "      <td>NaN</td>\n",
       "      <td>2010-11-04T00:00:00</td>\n",
       "      <td>2012-12-31T00:00:00</td>\n",
       "      <td>NaN</td>\n",
       "      <td>41.655762</td>\n",
       "      <td>-87.608686</td>\n",
       "      <td>{'latitude': '41.65576175146191', 'longitude':...</td>\n",
       "    </tr>\n",
       "    <tr>\n",
       "      <th>4</th>\n",
       "      <td>1675683-20070816</td>\n",
       "      <td>1837158</td>\n",
       "      <td>283018</td>\n",
       "      <td>3</td>\n",
       "      <td>MARINCA A. COVARRUBIAS</td>\n",
       "      <td>DETAILS</td>\n",
       "      <td>4208 S ARCHER AVE</td>\n",
       "      <td>CHICAGO</td>\n",
       "      <td>IL</td>\n",
       "      <td>60632.0</td>\n",
       "      <td>...</td>\n",
       "      <td>N</td>\n",
       "      <td>2007-08-16T00:00:00</td>\n",
       "      <td>2009-06-15T00:00:00</td>\n",
       "      <td>2007-08-15T00:00:00</td>\n",
       "      <td>2007-08-16T00:00:00</td>\n",
       "      <td>2008-03-26T00:00:00</td>\n",
       "      <td>39.0</td>\n",
       "      <td>41.816969</td>\n",
       "      <td>-87.699785</td>\n",
       "      <td>{'latitude': '41.81696910012824', 'longitude':...</td>\n",
       "    </tr>\n",
       "  </tbody>\n",
       "</table>\n",
       "<p>5 rows × 31 columns</p>\n",
       "</div>"
      ],
      "text/plain": [
       "                 ID  LICENSE ID  ACCOUNT NUMBER  SITE NUMBER  \\\n",
       "0  1516615-20120216     2132209          280120            1   \n",
       "1    69813-20110616     2090759           65043            1   \n",
       "2  1519227-20041116     1541990          281270            1   \n",
       "3  1922025-20100816     2041053          335243            1   \n",
       "4  1675683-20070816     1837158          283018            3   \n",
       "\n",
       "               LEGAL NAME DOING BUSINESS AS NAME                   ADDRESS  \\\n",
       "0          RS HOMES I LLC         RS HOMES I LLC    350 W HUBBARD ST 3 300   \n",
       "1      CSX INTERMODAL INC         CSX INTERMODAL        2101 W 59TH ST 1ST   \n",
       "2   LOCOMIBILE  LOFTS LLC   LOCOMOBILE LOFTS LLC     1133 S WABASH AVE 1ST   \n",
       "3         ANNA F. JAMISON        ANNA F. JAMISON  13156 S FORRESTVILLE AVE   \n",
       "4  MARINCA A. COVARRUBIAS                DETAILS         4208 S ARCHER AVE   \n",
       "\n",
       "      CITY STATE  ZIP CODE  ...  CONDITIONAL APPROVAL  \\\n",
       "0  CHICAGO    IL   60610.0  ...                     N   \n",
       "1  CHICAGO    IL   60636.0  ...                     N   \n",
       "2  CHICAGO    IL   60605.0  ...                     N   \n",
       "3  CHICAGO    IL   60827.0  ...                     N   \n",
       "4  CHICAGO    IL   60632.0  ...                     N   \n",
       "\n",
       "   LICENSE TERM START DATE LICENSE TERM EXPIRATION DATE  \\\n",
       "0      2012-02-16T00:00:00          2014-02-15T00:00:00   \n",
       "1      2011-06-16T00:00:00          2013-06-15T00:00:00   \n",
       "2      2004-11-16T00:00:00          2005-11-15T00:00:00   \n",
       "3      2010-08-16T00:00:00          2012-08-15T00:00:00   \n",
       "4      2007-08-16T00:00:00          2009-06-15T00:00:00   \n",
       "\n",
       "   LICENSE APPROVED FOR ISSUANCE          DATE ISSUED  \\\n",
       "0            2012-01-19T00:00:00  2012-01-20T00:00:00   \n",
       "1            2012-11-02T00:00:00  2012-11-05T00:00:00   \n",
       "2            2004-12-06T00:00:00  2004-12-07T00:00:00   \n",
       "3                            NaN  2010-11-04T00:00:00   \n",
       "4            2007-08-15T00:00:00  2007-08-16T00:00:00   \n",
       "\n",
       "  LICENSE STATUS CHANGE DATE   SSA   LATITUDE  LONGITUDE  \\\n",
       "0        2012-12-29T00:00:00   NaN  41.890047 -87.637467   \n",
       "1        2012-12-29T00:00:00   NaN  41.786485 -87.676665   \n",
       "2                        NaN   NaN  41.868269 -87.625695   \n",
       "3        2012-12-31T00:00:00   NaN  41.655762 -87.608686   \n",
       "4        2008-03-26T00:00:00  39.0  41.816969 -87.699785   \n",
       "\n",
       "                                            LOCATION  \n",
       "0  {'latitude': '41.89004724888915', 'longitude':...  \n",
       "1  {'latitude': '41.786485235679486', 'longitude'...  \n",
       "2  {'latitude': '41.86826924843568', 'longitude':...  \n",
       "3  {'latitude': '41.65576175146191', 'longitude':...  \n",
       "4  {'latitude': '41.81696910012824', 'longitude':...  \n",
       "\n",
       "[5 rows x 31 columns]"
      ]
     },
     "execution_count": 4,
     "metadata": {},
     "output_type": "execute_result"
    }
   ],
   "source": [
    "test_data = pd.read_csv(\"test_file.csv\")\n",
    "test_data.head()"
   ]
  },
  {
   "cell_type": "code",
   "execution_count": 5,
   "metadata": {},
   "outputs": [
    {
     "data": {
      "text/plain": [
       "(57239, 31)"
      ]
     },
     "execution_count": 5,
     "metadata": {},
     "output_type": "execute_result"
    }
   ],
   "source": [
    "test_data.shape"
   ]
  },
  {
   "cell_type": "markdown",
   "metadata": {},
   "source": [
    "### Creating data frame for submission file"
   ]
  },
  {
   "cell_type": "code",
   "execution_count": 6,
   "metadata": {},
   "outputs": [
    {
     "data": {
      "text/html": [
       "<div>\n",
       "<style scoped>\n",
       "    .dataframe tbody tr th:only-of-type {\n",
       "        vertical-align: middle;\n",
       "    }\n",
       "\n",
       "    .dataframe tbody tr th {\n",
       "        vertical-align: top;\n",
       "    }\n",
       "\n",
       "    .dataframe thead th {\n",
       "        text-align: right;\n",
       "    }\n",
       "</style>\n",
       "<table border=\"1\" class=\"dataframe\">\n",
       "  <thead>\n",
       "    <tr style=\"text-align: right;\">\n",
       "      <th></th>\n",
       "      <th>ID</th>\n",
       "    </tr>\n",
       "  </thead>\n",
       "  <tbody>\n",
       "    <tr>\n",
       "      <th>0</th>\n",
       "      <td>1516615-20120216</td>\n",
       "    </tr>\n",
       "    <tr>\n",
       "      <th>1</th>\n",
       "      <td>69813-20110616</td>\n",
       "    </tr>\n",
       "    <tr>\n",
       "      <th>2</th>\n",
       "      <td>1519227-20041116</td>\n",
       "    </tr>\n",
       "    <tr>\n",
       "      <th>3</th>\n",
       "      <td>1922025-20100816</td>\n",
       "    </tr>\n",
       "    <tr>\n",
       "      <th>4</th>\n",
       "      <td>1675683-20070816</td>\n",
       "    </tr>\n",
       "  </tbody>\n",
       "</table>\n",
       "</div>"
      ],
      "text/plain": [
       "                 ID\n",
       "0  1516615-20120216\n",
       "1    69813-20110616\n",
       "2  1519227-20041116\n",
       "3  1922025-20100816\n",
       "4  1675683-20070816"
      ]
     },
     "execution_count": 6,
     "metadata": {},
     "output_type": "execute_result"
    }
   ],
   "source": [
    "my_submission = pd.DataFrame({'ID': test_data.ID})\n",
    "my_submission.head()"
   ]
  },
  {
   "cell_type": "code",
   "execution_count": 7,
   "metadata": {},
   "outputs": [
    {
     "data": {
      "text/plain": [
       "(57239, 1)"
      ]
     },
     "execution_count": 7,
     "metadata": {},
     "output_type": "execute_result"
    }
   ],
   "source": [
    "my_submission.shape"
   ]
  },
  {
   "cell_type": "markdown",
   "metadata": {},
   "source": [
    "### Checking the data"
   ]
  },
  {
   "cell_type": "markdown",
   "metadata": {},
   "source": [
    "#### Checking the type of columns present in the given data"
   ]
  },
  {
   "cell_type": "code",
   "execution_count": 8,
   "metadata": {},
   "outputs": [
    {
     "data": {
      "text/plain": [
       "Index(['ID', 'LICENSE ID', 'ACCOUNT NUMBER', 'SITE NUMBER', 'LEGAL NAME',\n",
       "       'DOING BUSINESS AS NAME', 'ADDRESS', 'CITY', 'STATE', 'ZIP CODE',\n",
       "       'WARD', 'PRECINCT', 'WARD PRECINCT', 'POLICE DISTRICT', 'LICENSE CODE',\n",
       "       'LICENSE DESCRIPTION', 'LICENSE NUMBER', 'APPLICATION TYPE',\n",
       "       'APPLICATION CREATED DATE', 'APPLICATION REQUIREMENTS COMPLETE',\n",
       "       'PAYMENT DATE', 'CONDITIONAL APPROVAL', 'LICENSE TERM START DATE',\n",
       "       'LICENSE TERM EXPIRATION DATE', 'LICENSE APPROVED FOR ISSUANCE',\n",
       "       'DATE ISSUED', 'LICENSE STATUS CHANGE DATE', 'SSA', 'LATITUDE',\n",
       "       'LONGITUDE', 'LOCATION', 'LICENSE STATUS'],\n",
       "      dtype='object')"
      ]
     },
     "execution_count": 8,
     "metadata": {},
     "output_type": "execute_result"
    }
   ],
   "source": [
    "train_data.columns"
   ]
  },
  {
   "cell_type": "markdown",
   "metadata": {},
   "source": [
    "#### Checking the null values present in the given data to know the feature importance"
   ]
  },
  {
   "cell_type": "code",
   "execution_count": 9,
   "metadata": {},
   "outputs": [
    {
     "data": {
      "text/plain": [
       "ID                                       0\n",
       "LICENSE ID                               0\n",
       "ACCOUNT NUMBER                           0\n",
       "SITE NUMBER                              0\n",
       "LEGAL NAME                               0\n",
       "DOING BUSINESS AS NAME                   1\n",
       "ADDRESS                                  0\n",
       "CITY                                     0\n",
       "STATE                                    0\n",
       "ZIP CODE                                31\n",
       "WARD                                 49701\n",
       "PRECINCT                             56701\n",
       "WARD PRECINCT                        49700\n",
       "POLICE DISTRICT                      54012\n",
       "LICENSE CODE                             0\n",
       "LICENSE DESCRIPTION                      0\n",
       "LICENSE NUMBER                           1\n",
       "APPLICATION TYPE                         0\n",
       "APPLICATION CREATED DATE             64660\n",
       "APPLICATION REQUIREMENTS COMPLETE      214\n",
       "PAYMENT DATE                          1289\n",
       "CONDITIONAL APPROVAL                     0\n",
       "LICENSE TERM START DATE                228\n",
       "LICENSE TERM EXPIRATION DATE            18\n",
       "LICENSE APPROVED FOR ISSUANCE         6789\n",
       "DATE ISSUED                              0\n",
       "LICENSE STATUS CHANGE DATE           55400\n",
       "SSA                                  76446\n",
       "LATITUDE                             47246\n",
       "LONGITUDE                            47246\n",
       "LOCATION                             47246\n",
       "LICENSE STATUS                           0\n",
       "dtype: int64"
      ]
     },
     "execution_count": 9,
     "metadata": {},
     "output_type": "execute_result"
    }
   ],
   "source": [
    "train_data.isna().sum()"
   ]
  },
  {
   "cell_type": "code",
   "execution_count": 10,
   "metadata": {},
   "outputs": [
    {
     "data": {
      "text/plain": [
       "ID                                       0\n",
       "LICENSE ID                               0\n",
       "ACCOUNT NUMBER                           0\n",
       "SITE NUMBER                              0\n",
       "LEGAL NAME                               0\n",
       "DOING BUSINESS AS NAME                   2\n",
       "ADDRESS                                  0\n",
       "CITY                                     0\n",
       "STATE                                    0\n",
       "ZIP CODE                                12\n",
       "WARD                                   626\n",
       "PRECINCT                              1578\n",
       "WARD PRECINCT                          616\n",
       "POLICE DISTRICT                       1475\n",
       "LICENSE CODE                             0\n",
       "LICENSE DESCRIPTION                      0\n",
       "LICENSE NUMBER                           0\n",
       "APPLICATION TYPE                         0\n",
       "APPLICATION CREATED DATE             44587\n",
       "APPLICATION REQUIREMENTS COMPLETE      428\n",
       "PAYMENT DATE                          1051\n",
       "CONDITIONAL APPROVAL                     0\n",
       "LICENSE TERM START DATE                118\n",
       "LICENSE TERM EXPIRATION DATE             6\n",
       "LICENSE APPROVED FOR ISSUANCE         2379\n",
       "DATE ISSUED                              0\n",
       "LICENSE STATUS CHANGE DATE           23246\n",
       "SSA                                  41331\n",
       "LATITUDE                               910\n",
       "LONGITUDE                              910\n",
       "LOCATION                               910\n",
       "dtype: int64"
      ]
     },
     "execution_count": 10,
     "metadata": {},
     "output_type": "execute_result"
    }
   ],
   "source": [
    "test_data.isna().sum()"
   ]
  },
  {
   "cell_type": "markdown",
   "metadata": {},
   "source": [
    "#### Checking the unique values for each colummn in the given data  "
   ]
  },
  {
   "cell_type": "code",
   "execution_count": 11,
   "metadata": {},
   "outputs": [
    {
     "data": {
      "text/plain": [
       "ID                                   85895\n",
       "LICENSE ID                           85895\n",
       "ACCOUNT NUMBER                       38897\n",
       "SITE NUMBER                            177\n",
       "LEGAL NAME                           38744\n",
       "DOING BUSINESS AS NAME               41686\n",
       "ADDRESS                              42146\n",
       "CITY                                  1223\n",
       "STATE                                   54\n",
       "ZIP CODE                              2456\n",
       "WARD                                    50\n",
       "PRECINCT                                76\n",
       "WARD PRECINCT                         2383\n",
       "POLICE DISTRICT                         28\n",
       "LICENSE CODE                           106\n",
       "LICENSE DESCRIPTION                    106\n",
       "LICENSE NUMBER                       49768\n",
       "APPLICATION TYPE                         5\n",
       "APPLICATION CREATED DATE              2899\n",
       "APPLICATION REQUIREMENTS COMPLETE     3078\n",
       "PAYMENT DATE                          4356\n",
       "CONDITIONAL APPROVAL                     2\n",
       "LICENSE TERM START DATE               2825\n",
       "LICENSE TERM EXPIRATION DATE           297\n",
       "LICENSE APPROVED FOR ISSUANCE         4223\n",
       "DATE ISSUED                           3498\n",
       "LICENSE STATUS CHANGE DATE            3152\n",
       "SSA                                     53\n",
       "LATITUDE                             21386\n",
       "LONGITUDE                            21388\n",
       "LOCATION                             21388\n",
       "LICENSE STATUS                           5\n",
       "dtype: int64"
      ]
     },
     "execution_count": 11,
     "metadata": {},
     "output_type": "execute_result"
    }
   ],
   "source": [
    "train_data.nunique()"
   ]
  },
  {
   "cell_type": "code",
   "execution_count": 12,
   "metadata": {},
   "outputs": [
    {
     "data": {
      "text/plain": [
       "ID                                   57239\n",
       "LICENSE ID                           57239\n",
       "ACCOUNT NUMBER                       36724\n",
       "SITE NUMBER                            297\n",
       "LEGAL NAME                           36523\n",
       "DOING BUSINESS AS NAME               39364\n",
       "ADDRESS                              39637\n",
       "CITY                                   331\n",
       "STATE                                   43\n",
       "ZIP CODE                               420\n",
       "WARD                                    50\n",
       "PRECINCT                                76\n",
       "WARD PRECINCT                         2461\n",
       "POLICE DISTRICT                         25\n",
       "LICENSE CODE                           124\n",
       "LICENSE DESCRIPTION                    124\n",
       "LICENSE NUMBER                       49383\n",
       "APPLICATION TYPE                         6\n",
       "APPLICATION CREATED DATE              3684\n",
       "APPLICATION REQUIREMENTS COMPLETE     3884\n",
       "PAYMENT DATE                          4930\n",
       "CONDITIONAL APPROVAL                     2\n",
       "LICENSE TERM START DATE               3737\n",
       "LICENSE TERM EXPIRATION DATE           402\n",
       "LICENSE APPROVED FOR ISSUANCE         4844\n",
       "DATE ISSUED                           4042\n",
       "LICENSE STATUS CHANGE DATE            3934\n",
       "SSA                                     53\n",
       "LATITUDE                             28809\n",
       "LONGITUDE                            28809\n",
       "LOCATION                             28810\n",
       "dtype: int64"
      ]
     },
     "execution_count": 12,
     "metadata": {},
     "output_type": "execute_result"
    }
   ],
   "source": [
    "test_data.nunique()"
   ]
  },
  {
   "cell_type": "markdown",
   "metadata": {},
   "source": [
    "### Studying the Distribution of target variable on the given data"
   ]
  },
  {
   "cell_type": "code",
   "execution_count": 13,
   "metadata": {},
   "outputs": [],
   "source": [
    "import matplotlib.pyplot as plt\n",
    "import seaborn as sns"
   ]
  },
  {
   "cell_type": "code",
   "execution_count": 14,
   "metadata": {},
   "outputs": [
    {
     "data": {
      "image/png": "[encoded data removed]",
      "text/plain": [
       "<Figure size 432x288 with 1 Axes>"
      ]
     },
     "metadata": {
      "needs_background": "light"
     },
     "output_type": "display_data"
    }
   ],
   "source": [
    "plt.title('Distribution of target variable')\n",
    "sns.countplot(train_data['LICENSE STATUS'])\n",
    "plt.show()"
   ]
  },
  {
   "cell_type": "code",
   "execution_count": 15,
   "metadata": {},
   "outputs": [
    {
     "data": {
      "text/plain": [
       "AAI    55400\n",
       "AAC    30200\n",
       "REV      290\n",
       "REA        3\n",
       "INQ        2\n",
       "Name: LICENSE STATUS, dtype: int64"
      ]
     },
     "execution_count": 15,
     "metadata": {},
     "output_type": "execute_result"
    }
   ],
   "source": [
    "# The count of each target variable\n",
    "train_data['LICENSE STATUS'].value_counts()"
   ]
  },
  {
   "cell_type": "markdown",
   "metadata": {},
   "source": [
    "### Data preprocessing"
   ]
  },
  {
   "cell_type": "markdown",
   "metadata": {},
   "source": [
    "#### Dropping the unnecessary columns in both datasets which does not useful for model building."
   ]
  },
  {
   "cell_type": "code",
   "execution_count": 16,
   "metadata": {},
   "outputs": [],
   "source": [
    "Drop_list = ['APPLICATION CREATED DATE', 'SSA', 'LICENSE ID', 'ADDRESS', 'ID', 'LOCATION', 'LONGITUDE', 'LATITUDE','ZIP CODE']"
   ]
  },
  {
   "cell_type": "code",
   "execution_count": 17,
   "metadata": {},
   "outputs": [],
   "source": [
    "train_data = train_data.drop(Drop_list, axis=1)\n",
    "test_data = test_data.drop(Drop_list, axis=1)"
   ]
  },
  {
   "cell_type": "code",
   "execution_count": 18,
   "metadata": {},
   "outputs": [
    {
     "data": {
      "text/plain": [
       "(85895, 23)"
      ]
     },
     "execution_count": 18,
     "metadata": {},
     "output_type": "execute_result"
    }
   ],
   "source": [
    "train_data.shape\n"
   ]
  },
  {
   "cell_type": "code",
   "execution_count": 19,
   "metadata": {},
   "outputs": [
    {
     "data": {
      "text/plain": [
       "(57239, 22)"
      ]
     },
     "execution_count": 19,
     "metadata": {},
     "output_type": "execute_result"
    }
   ],
   "source": [
    "test_data.shape"
   ]
  },
  {
   "cell_type": "markdown",
   "metadata": {},
   "source": [
    "#### Writing functions to extraxt year and month from datetime data, impute missing values by mean"
   ]
  },
  {
   "cell_type": "code",
   "execution_count": 20,
   "metadata": {},
   "outputs": [],
   "source": [
    "from datetime import datetime"
   ]
  },
  {
   "cell_type": "code",
   "execution_count": 21,
   "metadata": {},
   "outputs": [],
   "source": [
    "def conv_date(date_list):\n",
    "    for i in date_list:\n",
    "        train_data[i] = pd.to_datetime(train_data[i])\n",
    "        test_data[i] = pd.to_datetime(test_data[i])"
   ]
  },
  {
   "cell_type": "code",
   "execution_count": 22,
   "metadata": {},
   "outputs": [],
   "source": [
    "date_list = ['APPLICATION REQUIREMENTS COMPLETE', 'PAYMENT DATE', 'LICENSE TERM EXPIRATION DATE', 'LICENSE TERM START DATE',\n",
    "             'DATE ISSUED', 'LICENSE APPROVED FOR ISSUANCE', 'LICENSE STATUS CHANGE DATE']\n",
    "conv_date(date_list)"
   ]
  },
  {
   "cell_type": "code",
   "execution_count": 23,
   "metadata": {},
   "outputs": [],
   "source": [
    "def get_year(colname, dfcolname):\n",
    "    train_data[colname] = train_data[dfcolname].apply(lambda x:x.year)\n",
    "    test_data[colname] = test_data[dfcolname].apply(lambda x:x.year)\n",
    "def get_month(colname, dfcolname):\n",
    "    train_data[colname] = train_data[dfcolname].apply(lambda x:x.month)\n",
    "    test_data[colname] = test_data[dfcolname].apply(lambda x:x.month)"
   ]
  },
  {
   "cell_type": "code",
   "execution_count": 24,
   "metadata": {},
   "outputs": [],
   "source": [
    "get_year('PAYMENT YEAR', 'PAYMENT DATE')\n",
    "get_month('PAYMENT MONTH', 'PAYMENT DATE')\n",
    "get_year('APPLICATION REQUIREMENTS COMPLETE YEAR', 'APPLICATION REQUIREMENTS COMPLETE')\n",
    "get_year('DATE ISSUED YEAR', 'DATE ISSUED')\n",
    "get_year('LICENSE TERM EXPIRATION YEAR', 'LICENSE TERM EXPIRATION DATE')\n",
    "get_year('LICENSE TERM START YEAR', 'LICENSE TERM START DATE')\n",
    "get_year('LICENSE APPROVED YEAR', 'LICENSE APPROVED FOR ISSUANCE')\n",
    "get_year('LICENSE STATUS CHANGE YEAR', 'LICENSE STATUS CHANGE DATE')"
   ]
  },
  {
   "cell_type": "code",
   "execution_count": 25,
   "metadata": {},
   "outputs": [],
   "source": [
    "# Function to impute missing values by rounded value of mean\n",
    "def round_mean(imp_mean_list):\n",
    "    for i in imp_mean_list:\n",
    "        train_data[i] = train_data[i].fillna(round(train_data[i].mean()))\n",
    "        test_data[i] = test_data[i].fillna(round(train_data[i].mean()))"
   ]
  },
  {
   "cell_type": "code",
   "execution_count": 26,
   "metadata": {},
   "outputs": [],
   "source": [
    "imp_mean_list = ['LICENSE TERM EXPIRATION YEAR', 'LICENSE TERM START YEAR', 'PAYMENT YEAR', 'LICENSE APPROVED YEAR',\n",
    "                 'APPLICATION REQUIREMENTS COMPLETE YEAR', 'LICENSE STATUS CHANGE YEAR']\n",
    "round_mean(imp_mean_list)"
   ]
  },
  {
   "cell_type": "code",
   "execution_count": 27,
   "metadata": {},
   "outputs": [],
   "source": [
    "train_data['LICENSE VALIDITY'] = abs(train_data['LICENSE TERM EXPIRATION YEAR'] - train_data['LICENSE TERM START YEAR'])\n",
    "test_data['LICENSE VALIDITY'] = abs(test_data['LICENSE TERM EXPIRATION YEAR'] - test_data['LICENSE TERM START YEAR'])"
   ]
  },
  {
   "cell_type": "code",
   "execution_count": 28,
   "metadata": {},
   "outputs": [],
   "source": [
    "col_list = ['PAYMENT DATE', 'APPLICATION REQUIREMENTS COMPLETE', 'LICENSE TERM EXPIRATION DATE', 'DATE ISSUED', \n",
    "            'LICENSE TERM EXPIRATION YEAR', 'LICENSE TERM START DATE', 'LICENSE TERM START YEAR', \n",
    "            'LICENSE APPROVED FOR ISSUANCE', 'LICENSE STATUS CHANGE DATE']"
   ]
  },
  {
   "cell_type": "code",
   "execution_count": 29,
   "metadata": {},
   "outputs": [],
   "source": [
    "# Dropping columns which will be of no use for our model\n",
    "train_data = train_data.drop(col_list, axis=1)\n",
    "test_data = test_data.drop(col_list, axis=1)"
   ]
  },
  {
   "cell_type": "code",
   "execution_count": 30,
   "metadata": {},
   "outputs": [],
   "source": [
    "# Function to impute with None\n",
    "def impute_none(imp_none_list):\n",
    "    for i in imp_none_list:\n",
    "        train_data[i] = train_data[i].fillna('None')\n",
    "        test_data[i] = test_data[i].fillna('None')"
   ]
  },
  {
   "cell_type": "code",
   "execution_count": 31,
   "metadata": {},
   "outputs": [],
   "source": [
    "imp_none_list = ['LEGAL NAME', 'DOING BUSINESS AS NAME']\n",
    "impute_none(imp_none_list)"
   ]
  },
  {
   "cell_type": "code",
   "execution_count": 32,
   "metadata": {},
   "outputs": [
    {
     "data": {
      "text/html": [
       "<div>\n",
       "<style scoped>\n",
       "    .dataframe tbody tr th:only-of-type {\n",
       "        vertical-align: middle;\n",
       "    }\n",
       "\n",
       "    .dataframe tbody tr th {\n",
       "        vertical-align: top;\n",
       "    }\n",
       "\n",
       "    .dataframe thead th {\n",
       "        text-align: right;\n",
       "    }\n",
       "</style>\n",
       "<table border=\"1\" class=\"dataframe\">\n",
       "  <thead>\n",
       "    <tr style=\"text-align: right;\">\n",
       "      <th></th>\n",
       "      <th>ACCOUNT NUMBER</th>\n",
       "      <th>SITE NUMBER</th>\n",
       "      <th>LEGAL NAME</th>\n",
       "      <th>DOING BUSINESS AS NAME</th>\n",
       "      <th>CITY</th>\n",
       "      <th>STATE</th>\n",
       "      <th>WARD</th>\n",
       "      <th>PRECINCT</th>\n",
       "      <th>WARD PRECINCT</th>\n",
       "      <th>POLICE DISTRICT</th>\n",
       "      <th>...</th>\n",
       "      <th>APPLICATION TYPE</th>\n",
       "      <th>CONDITIONAL APPROVAL</th>\n",
       "      <th>LICENSE STATUS</th>\n",
       "      <th>PAYMENT YEAR</th>\n",
       "      <th>PAYMENT MONTH</th>\n",
       "      <th>APPLICATION REQUIREMENTS COMPLETE YEAR</th>\n",
       "      <th>DATE ISSUED YEAR</th>\n",
       "      <th>LICENSE APPROVED YEAR</th>\n",
       "      <th>LICENSE STATUS CHANGE YEAR</th>\n",
       "      <th>LICENSE VALIDITY</th>\n",
       "    </tr>\n",
       "  </thead>\n",
       "  <tbody>\n",
       "    <tr>\n",
       "      <th>0</th>\n",
       "      <td>32811</td>\n",
       "      <td>1</td>\n",
       "      <td>CARMEN CAHUE</td>\n",
       "      <td>CLAUDIA'S BRIDAL SHOP</td>\n",
       "      <td>CHICAGO</td>\n",
       "      <td>IL</td>\n",
       "      <td>22.0</td>\n",
       "      <td>28.0</td>\n",
       "      <td>22-28</td>\n",
       "      <td>10.0</td>\n",
       "      <td>...</td>\n",
       "      <td>RENEW</td>\n",
       "      <td>N</td>\n",
       "      <td>AAI</td>\n",
       "      <td>2002.0</td>\n",
       "      <td>8.0</td>\n",
       "      <td>2002.0</td>\n",
       "      <td>2006</td>\n",
       "      <td>2002.0</td>\n",
       "      <td>2009.0</td>\n",
       "      <td>1.0</td>\n",
       "    </tr>\n",
       "    <tr>\n",
       "      <th>1</th>\n",
       "      <td>262311</td>\n",
       "      <td>29</td>\n",
       "      <td>ISLA TROPICAL, INC.</td>\n",
       "      <td>ISLA TROPICAL</td>\n",
       "      <td>CHICAGO</td>\n",
       "      <td>IL</td>\n",
       "      <td>33.0</td>\n",
       "      <td>23.0</td>\n",
       "      <td>33-23</td>\n",
       "      <td>17.0</td>\n",
       "      <td>...</td>\n",
       "      <td>RENEW</td>\n",
       "      <td>N</td>\n",
       "      <td>AAC</td>\n",
       "      <td>2005.0</td>\n",
       "      <td>11.0</td>\n",
       "      <td>2005.0</td>\n",
       "      <td>2006</td>\n",
       "      <td>2006.0</td>\n",
       "      <td>2006.0</td>\n",
       "      <td>1.0</td>\n",
       "    </tr>\n",
       "    <tr>\n",
       "      <th>2</th>\n",
       "      <td>345008</td>\n",
       "      <td>1</td>\n",
       "      <td>DJS REMODELING</td>\n",
       "      <td>DJS REMODELING, INC.</td>\n",
       "      <td>HIGHLAND</td>\n",
       "      <td>IL</td>\n",
       "      <td>NaN</td>\n",
       "      <td>NaN</td>\n",
       "      <td>NaN</td>\n",
       "      <td>NaN</td>\n",
       "      <td>...</td>\n",
       "      <td>ISSUE</td>\n",
       "      <td>N</td>\n",
       "      <td>AAI</td>\n",
       "      <td>2009.0</td>\n",
       "      <td>7.0</td>\n",
       "      <td>2009.0</td>\n",
       "      <td>2009</td>\n",
       "      <td>2009.0</td>\n",
       "      <td>2009.0</td>\n",
       "      <td>2.0</td>\n",
       "    </tr>\n",
       "    <tr>\n",
       "      <th>3</th>\n",
       "      <td>273121</td>\n",
       "      <td>1</td>\n",
       "      <td>ALL-BRY CONSTRUCTION CO.</td>\n",
       "      <td>ALL-BRY CONSTRUCTION CO.</td>\n",
       "      <td>LEMONT</td>\n",
       "      <td>IL</td>\n",
       "      <td>NaN</td>\n",
       "      <td>NaN</td>\n",
       "      <td>NaN</td>\n",
       "      <td>NaN</td>\n",
       "      <td>...</td>\n",
       "      <td>ISSUE</td>\n",
       "      <td>N</td>\n",
       "      <td>AAI</td>\n",
       "      <td>2004.0</td>\n",
       "      <td>2.0</td>\n",
       "      <td>2004.0</td>\n",
       "      <td>2004</td>\n",
       "      <td>2004.0</td>\n",
       "      <td>2009.0</td>\n",
       "      <td>1.0</td>\n",
       "    </tr>\n",
       "    <tr>\n",
       "      <th>4</th>\n",
       "      <td>213785</td>\n",
       "      <td>1</td>\n",
       "      <td>MCDONOUGH MECHANICAL SERVICE</td>\n",
       "      <td>MCDONOUGH MECHANICAL SERVICE</td>\n",
       "      <td>WAUKEGAN</td>\n",
       "      <td>IL</td>\n",
       "      <td>NaN</td>\n",
       "      <td>NaN</td>\n",
       "      <td>NaN</td>\n",
       "      <td>NaN</td>\n",
       "      <td>...</td>\n",
       "      <td>RENEW</td>\n",
       "      <td>N</td>\n",
       "      <td>AAI</td>\n",
       "      <td>2008.0</td>\n",
       "      <td>6.0</td>\n",
       "      <td>2008.0</td>\n",
       "      <td>2008</td>\n",
       "      <td>2008.0</td>\n",
       "      <td>2009.0</td>\n",
       "      <td>2.0</td>\n",
       "    </tr>\n",
       "  </tbody>\n",
       "</table>\n",
       "<p>5 rows × 23 columns</p>\n",
       "</div>"
      ],
      "text/plain": [
       "   ACCOUNT NUMBER  SITE NUMBER                    LEGAL NAME  \\\n",
       "0           32811            1                  CARMEN CAHUE   \n",
       "1          262311           29           ISLA TROPICAL, INC.   \n",
       "2          345008            1                DJS REMODELING   \n",
       "3          273121            1      ALL-BRY CONSTRUCTION CO.   \n",
       "4          213785            1  MCDONOUGH MECHANICAL SERVICE   \n",
       "\n",
       "         DOING BUSINESS AS NAME      CITY STATE  WARD  PRECINCT WARD PRECINCT  \\\n",
       "0         CLAUDIA'S BRIDAL SHOP   CHICAGO    IL  22.0      28.0         22-28   \n",
       "1                 ISLA TROPICAL   CHICAGO    IL  33.0      23.0         33-23   \n",
       "2          DJS REMODELING, INC.  HIGHLAND    IL   NaN       NaN           NaN   \n",
       "3      ALL-BRY CONSTRUCTION CO.    LEMONT    IL   NaN       NaN           NaN   \n",
       "4  MCDONOUGH MECHANICAL SERVICE  WAUKEGAN    IL   NaN       NaN           NaN   \n",
       "\n",
       "   POLICE DISTRICT  ...  APPLICATION TYPE CONDITIONAL APPROVAL  \\\n",
       "0             10.0  ...             RENEW                    N   \n",
       "1             17.0  ...             RENEW                    N   \n",
       "2              NaN  ...             ISSUE                    N   \n",
       "3              NaN  ...             ISSUE                    N   \n",
       "4              NaN  ...             RENEW                    N   \n",
       "\n",
       "   LICENSE STATUS PAYMENT YEAR PAYMENT MONTH  \\\n",
       "0             AAI       2002.0           8.0   \n",
       "1             AAC       2005.0          11.0   \n",
       "2             AAI       2009.0           7.0   \n",
       "3             AAI       2004.0           2.0   \n",
       "4             AAI       2008.0           6.0   \n",
       "\n",
       "  APPLICATION REQUIREMENTS COMPLETE YEAR  DATE ISSUED YEAR  \\\n",
       "0                                 2002.0              2006   \n",
       "1                                 2005.0              2006   \n",
       "2                                 2009.0              2009   \n",
       "3                                 2004.0              2004   \n",
       "4                                 2008.0              2008   \n",
       "\n",
       "   LICENSE APPROVED YEAR  LICENSE STATUS CHANGE YEAR  LICENSE VALIDITY  \n",
       "0                 2002.0                      2009.0               1.0  \n",
       "1                 2006.0                      2006.0               1.0  \n",
       "2                 2009.0                      2009.0               2.0  \n",
       "3                 2004.0                      2009.0               1.0  \n",
       "4                 2008.0                      2009.0               2.0  \n",
       "\n",
       "[5 rows x 23 columns]"
      ]
     },
     "execution_count": 32,
     "metadata": {},
     "output_type": "execute_result"
    }
   ],
   "source": [
    "\n",
    "train_data['LEGAL NAME'].apply(lambda x: x.upper())\n",
    "train_data['DOING BUSINESS AS NAME'].apply(lambda x: x.upper())\n",
    "train_data.head()"
   ]
  },
  {
   "cell_type": "code",
   "execution_count": 33,
   "metadata": {},
   "outputs": [
    {
     "data": {
      "text/html": [
       "<div>\n",
       "<style scoped>\n",
       "    .dataframe tbody tr th:only-of-type {\n",
       "        vertical-align: middle;\n",
       "    }\n",
       "\n",
       "    .dataframe tbody tr th {\n",
       "        vertical-align: top;\n",
       "    }\n",
       "\n",
       "    .dataframe thead th {\n",
       "        text-align: right;\n",
       "    }\n",
       "</style>\n",
       "<table border=\"1\" class=\"dataframe\">\n",
       "  <thead>\n",
       "    <tr style=\"text-align: right;\">\n",
       "      <th></th>\n",
       "      <th>ACCOUNT NUMBER</th>\n",
       "      <th>SITE NUMBER</th>\n",
       "      <th>LEGAL NAME</th>\n",
       "      <th>DOING BUSINESS AS NAME</th>\n",
       "      <th>CITY</th>\n",
       "      <th>STATE</th>\n",
       "      <th>WARD</th>\n",
       "      <th>PRECINCT</th>\n",
       "      <th>WARD PRECINCT</th>\n",
       "      <th>POLICE DISTRICT</th>\n",
       "      <th>...</th>\n",
       "      <th>LICENSE NUMBER</th>\n",
       "      <th>APPLICATION TYPE</th>\n",
       "      <th>CONDITIONAL APPROVAL</th>\n",
       "      <th>PAYMENT YEAR</th>\n",
       "      <th>PAYMENT MONTH</th>\n",
       "      <th>APPLICATION REQUIREMENTS COMPLETE YEAR</th>\n",
       "      <th>DATE ISSUED YEAR</th>\n",
       "      <th>LICENSE APPROVED YEAR</th>\n",
       "      <th>LICENSE STATUS CHANGE YEAR</th>\n",
       "      <th>LICENSE VALIDITY</th>\n",
       "    </tr>\n",
       "  </thead>\n",
       "  <tbody>\n",
       "    <tr>\n",
       "      <th>0</th>\n",
       "      <td>280120</td>\n",
       "      <td>1</td>\n",
       "      <td>RS HOMES I LLC</td>\n",
       "      <td>RS HOMES I LLC</td>\n",
       "      <td>CHICAGO</td>\n",
       "      <td>IL</td>\n",
       "      <td>42.0</td>\n",
       "      <td>67.0</td>\n",
       "      <td>42-67</td>\n",
       "      <td>18.0</td>\n",
       "      <td>...</td>\n",
       "      <td>1516615.0</td>\n",
       "      <td>RENEW</td>\n",
       "      <td>N</td>\n",
       "      <td>2012.0</td>\n",
       "      <td>1.0</td>\n",
       "      <td>2011.0</td>\n",
       "      <td>2012</td>\n",
       "      <td>2012.0</td>\n",
       "      <td>2012.0</td>\n",
       "      <td>2.0</td>\n",
       "    </tr>\n",
       "    <tr>\n",
       "      <th>1</th>\n",
       "      <td>65043</td>\n",
       "      <td>1</td>\n",
       "      <td>CSX INTERMODAL INC</td>\n",
       "      <td>CSX INTERMODAL</td>\n",
       "      <td>CHICAGO</td>\n",
       "      <td>IL</td>\n",
       "      <td>16.0</td>\n",
       "      <td>5.0</td>\n",
       "      <td>16-5</td>\n",
       "      <td>7.0</td>\n",
       "      <td>...</td>\n",
       "      <td>69813.0</td>\n",
       "      <td>RENEW</td>\n",
       "      <td>N</td>\n",
       "      <td>2012.0</td>\n",
       "      <td>11.0</td>\n",
       "      <td>2011.0</td>\n",
       "      <td>2012</td>\n",
       "      <td>2012.0</td>\n",
       "      <td>2012.0</td>\n",
       "      <td>2.0</td>\n",
       "    </tr>\n",
       "    <tr>\n",
       "      <th>2</th>\n",
       "      <td>281270</td>\n",
       "      <td>1</td>\n",
       "      <td>LOCOMIBILE  LOFTS LLC</td>\n",
       "      <td>LOCOMOBILE LOFTS LLC</td>\n",
       "      <td>CHICAGO</td>\n",
       "      <td>IL</td>\n",
       "      <td>4.0</td>\n",
       "      <td>8.0</td>\n",
       "      <td>4-8</td>\n",
       "      <td>1.0</td>\n",
       "      <td>...</td>\n",
       "      <td>1519227.0</td>\n",
       "      <td>RENEW</td>\n",
       "      <td>N</td>\n",
       "      <td>2004.0</td>\n",
       "      <td>12.0</td>\n",
       "      <td>2004.0</td>\n",
       "      <td>2004</td>\n",
       "      <td>2004.0</td>\n",
       "      <td>2009.0</td>\n",
       "      <td>1.0</td>\n",
       "    </tr>\n",
       "    <tr>\n",
       "      <th>3</th>\n",
       "      <td>335243</td>\n",
       "      <td>1</td>\n",
       "      <td>ANNA F. JAMISON</td>\n",
       "      <td>ANNA F. JAMISON</td>\n",
       "      <td>CHICAGO</td>\n",
       "      <td>IL</td>\n",
       "      <td>9.0</td>\n",
       "      <td>33.0</td>\n",
       "      <td>9-33</td>\n",
       "      <td>5.0</td>\n",
       "      <td>...</td>\n",
       "      <td>1922025.0</td>\n",
       "      <td>RENEW</td>\n",
       "      <td>N</td>\n",
       "      <td>2010.0</td>\n",
       "      <td>11.0</td>\n",
       "      <td>2010.0</td>\n",
       "      <td>2010</td>\n",
       "      <td>2007.0</td>\n",
       "      <td>2012.0</td>\n",
       "      <td>2.0</td>\n",
       "    </tr>\n",
       "    <tr>\n",
       "      <th>4</th>\n",
       "      <td>283018</td>\n",
       "      <td>3</td>\n",
       "      <td>MARINCA A. COVARRUBIAS</td>\n",
       "      <td>DETAILS</td>\n",
       "      <td>CHICAGO</td>\n",
       "      <td>IL</td>\n",
       "      <td>15.0</td>\n",
       "      <td>26.0</td>\n",
       "      <td>15-26</td>\n",
       "      <td>9.0</td>\n",
       "      <td>...</td>\n",
       "      <td>1675683.0</td>\n",
       "      <td>RENEW</td>\n",
       "      <td>N</td>\n",
       "      <td>2007.0</td>\n",
       "      <td>8.0</td>\n",
       "      <td>2007.0</td>\n",
       "      <td>2007</td>\n",
       "      <td>2007.0</td>\n",
       "      <td>2008.0</td>\n",
       "      <td>2.0</td>\n",
       "    </tr>\n",
       "  </tbody>\n",
       "</table>\n",
       "<p>5 rows × 22 columns</p>\n",
       "</div>"
      ],
      "text/plain": [
       "   ACCOUNT NUMBER  SITE NUMBER              LEGAL NAME DOING BUSINESS AS NAME  \\\n",
       "0          280120            1          RS HOMES I LLC         RS HOMES I LLC   \n",
       "1           65043            1      CSX INTERMODAL INC         CSX INTERMODAL   \n",
       "2          281270            1   LOCOMIBILE  LOFTS LLC   LOCOMOBILE LOFTS LLC   \n",
       "3          335243            1         ANNA F. JAMISON        ANNA F. JAMISON   \n",
       "4          283018            3  MARINCA A. COVARRUBIAS                DETAILS   \n",
       "\n",
       "      CITY STATE  WARD  PRECINCT WARD PRECINCT  POLICE DISTRICT  ...  \\\n",
       "0  CHICAGO    IL  42.0      67.0         42-67             18.0  ...   \n",
       "1  CHICAGO    IL  16.0       5.0          16-5              7.0  ...   \n",
       "2  CHICAGO    IL   4.0       8.0           4-8              1.0  ...   \n",
       "3  CHICAGO    IL   9.0      33.0          9-33              5.0  ...   \n",
       "4  CHICAGO    IL  15.0      26.0         15-26              9.0  ...   \n",
       "\n",
       "   LICENSE NUMBER APPLICATION TYPE  CONDITIONAL APPROVAL PAYMENT YEAR  \\\n",
       "0       1516615.0            RENEW                     N       2012.0   \n",
       "1         69813.0            RENEW                     N       2012.0   \n",
       "2       1519227.0            RENEW                     N       2004.0   \n",
       "3       1922025.0            RENEW                     N       2010.0   \n",
       "4       1675683.0            RENEW                     N       2007.0   \n",
       "\n",
       "  PAYMENT MONTH  APPLICATION REQUIREMENTS COMPLETE YEAR  DATE ISSUED YEAR  \\\n",
       "0           1.0                                  2011.0              2012   \n",
       "1          11.0                                  2011.0              2012   \n",
       "2          12.0                                  2004.0              2004   \n",
       "3          11.0                                  2010.0              2010   \n",
       "4           8.0                                  2007.0              2007   \n",
       "\n",
       "   LICENSE APPROVED YEAR  LICENSE STATUS CHANGE YEAR  LICENSE VALIDITY  \n",
       "0                 2012.0                      2012.0               2.0  \n",
       "1                 2012.0                      2012.0               2.0  \n",
       "2                 2004.0                      2009.0               1.0  \n",
       "3                 2007.0                      2012.0               2.0  \n",
       "4                 2007.0                      2008.0               2.0  \n",
       "\n",
       "[5 rows x 22 columns]"
      ]
     },
     "execution_count": 33,
     "metadata": {},
     "output_type": "execute_result"
    }
   ],
   "source": [
    "test_data['LEGAL NAME'].apply(lambda x: x.upper())\n",
    "test_data['DOING BUSINESS AS NAME'].apply(lambda x: x.upper())\n",
    "test_data.head()"
   ]
  },
  {
   "cell_type": "markdown",
   "metadata": {},
   "source": [
    "#### Converting the columns 'LEGAL NAME', 'DOING BUSINESS AS NAME' to extract useful information"
   ]
  },
  {
   "cell_type": "code",
   "execution_count": 34,
   "metadata": {},
   "outputs": [],
   "source": [
    "train_data['LEGAL NAME'] = train_data['LEGAL NAME'].str.replace('.', '', regex=False)\n",
    "train_data['DOING BUSINESS AS NAME'] = train_data['DOING BUSINESS AS NAME'].str.replace('.', '', regex=False)"
   ]
  },
  {
   "cell_type": "code",
   "execution_count": 35,
   "metadata": {},
   "outputs": [],
   "source": [
    "test_data['LEGAL NAME'] = test_data['LEGAL NAME'].str.replace('.', '', regex=False)\n",
    "test_data['DOING BUSINESS AS NAME'] = test_data['DOING BUSINESS AS NAME'].str.replace('.', '', regex=False)"
   ]
  },
  {
   "cell_type": "code",
   "execution_count": 36,
   "metadata": {},
   "outputs": [],
   "source": [
    "train_data['LEGAL TYPE'] = 'PVT'\n",
    "test_data['LEGAL TYPE'] = 'PVT'"
   ]
  },
  {
   "cell_type": "markdown",
   "metadata": {},
   "source": [
    "#### Checking the type of business from the 'LEGAL NAME' and 'DOING BUSINESS AS NAME' columns i.e. Incorporated, LLC, Corporation or Ltd etc"
   ]
  },
  {
   "cell_type": "code",
   "execution_count": 37,
   "metadata": {},
   "outputs": [],
   "source": [
    "train_data['LEGAL TYPE'] = np.where(train_data['LEGAL NAME'].str.contains('INC'), 'INC', train_data['LEGAL TYPE'])\n",
    "train_data['LEGAL TYPE'] = np.where(train_data['LEGAL NAME'].str.contains('INCORPORATED'), 'INC', train_data['LEGAL TYPE'])\n",
    "train_data['LEGAL TYPE'] = np.where(train_data['DOING BUSINESS AS NAME'].str.contains('INC'), 'INC', train_data['LEGAL TYPE'])\n",
    "train_data['LEGAL TYPE'] = np.where(train_data['DOING BUSINESS AS NAME'].str.contains('INCORPORATED'), 'INC', train_data['LEGAL TYPE'])\n",
    "train_data['LEGAL TYPE'] = np.where(train_data['LEGAL NAME'].str.contains('LLC'), 'LLC', train_data['LEGAL TYPE'])\n",
    "train_data['LEGAL TYPE'] = np.where(train_data['DOING BUSINESS AS NAME'].str.contains('LLC'), 'LLC', train_data['LEGAL TYPE'])\n",
    "train_data['LEGAL TYPE'] = np.where(train_data['LEGAL NAME'].str.contains('CO'), 'CORP', train_data['LEGAL TYPE'])\n",
    "train_data['LEGAL TYPE'] = np.where(train_data['LEGAL NAME'].str.contains('CORP'), 'CORP', train_data['LEGAL TYPE'])\n",
    "train_data['LEGAL TYPE'] = np.where(train_data['LEGAL NAME'].str.contains('CORPORATION'), 'CORP', train_data['LEGAL TYPE'])\n",
    "train_data['LEGAL TYPE'] = np.where(train_data['DOING BUSINESS AS NAME'].str.contains('CO'), 'CORP', train_data['LEGAL TYPE'])\n",
    "train_data['LEGAL TYPE'] = np.where(train_data['DOING BUSINESS AS NAME'].str.contains('CORP'), 'CORP', train_data['LEGAL TYPE'])\n",
    "train_data['LEGAL TYPE'] = np.where(train_data['DOING BUSINESS AS NAME'].str.contains('CORPORATION'), 'CORP', train_data['LEGAL TYPE'])\n",
    "train_data['LEGAL TYPE'] = np.where(train_data['LEGAL NAME'].str.contains('LTD'), 'LTD', train_data['LEGAL TYPE'])\n",
    "train_data['LEGAL TYPE'] = np.where(train_data['LEGAL NAME'].str.contains('LIMITED'), 'LTD', train_data['LEGAL TYPE'])\n",
    "train_data['LEGAL TYPE'] = np.where(train_data['DOING BUSINESS AS NAME'].str.contains('LTD'), 'LTD', train_data['LEGAL TYPE'])\n",
    "train_data['LEGAL TYPE'] = np.where(train_data['DOING BUSINESS AS NAME'].str.contains('LIMITED'), 'LTD', train_data['LEGAL TYPE'])"
   ]
  },
  {
   "cell_type": "code",
   "execution_count": 38,
   "metadata": {},
   "outputs": [],
   "source": [
    "test_data['LEGAL TYPE'] = np.where(test_data['LEGAL NAME'].str.contains('INC'), 'INC', test_data['LEGAL TYPE'])\n",
    "test_data['LEGAL TYPE'] = np.where(test_data['LEGAL NAME'].str.contains('INCORPORATED'), 'INC', test_data['LEGAL TYPE'])\n",
    "test_data['LEGAL TYPE'] = np.where(test_data['DOING BUSINESS AS NAME'].str.contains('INC'), 'INC', test_data['LEGAL TYPE'])\n",
    "test_data['LEGAL TYPE'] = np.where(test_data['DOING BUSINESS AS NAME'].str.contains('INCORPORATED'), 'INC', test_data['LEGAL TYPE'])\n",
    "test_data['LEGAL TYPE'] = np.where(test_data['LEGAL NAME'].str.contains('LLC'), 'LLC', test_data['LEGAL TYPE'])\n",
    "test_data['LEGAL TYPE'] = np.where(test_data['DOING BUSINESS AS NAME'].str.contains('LLC'), 'LLC', test_data['LEGAL TYPE'])\n",
    "test_data['LEGAL TYPE'] = np.where(test_data['LEGAL NAME'].str.contains('CO'), 'CORP', test_data['LEGAL TYPE'])\n",
    "test_data['LEGAL TYPE'] = np.where(test_data['LEGAL NAME'].str.contains('CORP'), 'CORP', test_data['LEGAL TYPE'])\n",
    "test_data['LEGAL TYPE'] = np.where(test_data['LEGAL NAME'].str.contains('CORPORATION'), 'CORP', test_data['LEGAL TYPE'])\n",
    "test_data['LEGAL TYPE'] = np.where(test_data['DOING BUSINESS AS NAME'].str.contains('CO'), 'CORP', test_data['LEGAL TYPE'])\n",
    "test_data['LEGAL TYPE'] = np.where(test_data['DOING BUSINESS AS NAME'].str.contains('CORP'), 'CORP', test_data['LEGAL TYPE'])\n",
    "test_data['LEGAL TYPE'] = np.where(test_data['DOING BUSINESS AS NAME'].str.contains('CORPORATION'), 'CORP', test_data['LEGAL TYPE'])\n",
    "test_data['LEGAL TYPE'] = np.where(test_data['LEGAL NAME'].str.contains('LTD'), 'LTD', test_data['LEGAL TYPE'])\n",
    "test_data['LEGAL TYPE'] = np.where(test_data['LEGAL NAME'].str.contains('LIMITED'), 'LTD', test_data['LEGAL TYPE'])\n",
    "test_data['LEGAL TYPE'] = np.where(test_data['DOING BUSINESS AS NAME'].str.contains('LTD'), 'LTD', test_data['LEGAL TYPE'])\n",
    "test_data['LEGAL TYPE'] = np.where(test_data['DOING BUSINESS AS NAME'].str.contains('LIMITED'), 'LTD', test_data['LEGAL TYPE'])\n"
   ]
  },
  {
   "cell_type": "code",
   "execution_count": 39,
   "metadata": {},
   "outputs": [
    {
     "data": {
      "text/plain": [
       "CORP    27765\n",
       "PVT     27020\n",
       "INC     24447\n",
       "LLC      5048\n",
       "LTD      1615\n",
       "Name: LEGAL TYPE, dtype: int64"
      ]
     },
     "execution_count": 39,
     "metadata": {},
     "output_type": "execute_result"
    }
   ],
   "source": [
    "train_data['LEGAL TYPE'].value_counts()"
   ]
  },
  {
   "cell_type": "code",
   "execution_count": 40,
   "metadata": {},
   "outputs": [
    {
     "data": {
      "text/plain": [
       "INC     19603\n",
       "PVT     17607\n",
       "CORP    13496\n",
       "LLC      5014\n",
       "LTD      1519\n",
       "Name: LEGAL TYPE, dtype: int64"
      ]
     },
     "execution_count": 40,
     "metadata": {},
     "output_type": "execute_result"
    }
   ],
   "source": [
    "test_data['LEGAL TYPE'].value_counts()"
   ]
  },
  {
   "cell_type": "code",
   "execution_count": 41,
   "metadata": {},
   "outputs": [],
   "source": [
    "drop_list = ['DOING BUSINESS AS NAME', 'LEGAL NAME']"
   ]
  },
  {
   "cell_type": "code",
   "execution_count": 42,
   "metadata": {},
   "outputs": [],
   "source": [
    "train_data = train_data.drop(drop_list, axis=1)\n",
    "test_data = test_data.drop(drop_list, axis=1)"
   ]
  },
  {
   "cell_type": "markdown",
   "metadata": {},
   "source": [
    "####  Extracting useful information from the column 'LICENSE DESCRIPTION'"
   ]
  },
  {
   "cell_type": "code",
   "execution_count": 43,
   "metadata": {},
   "outputs": [],
   "source": [
    "train_data['LICENSE DESCRIPTION'] = train_data['LICENSE DESCRIPTION'].replace('Motor Vehicle Repair : Engine Only (Class II)', 'Motor Vehicle Repair')\n",
    "train_data['LICENSE DESCRIPTION'] = train_data['LICENSE DESCRIPTION'].replace('Motor Vehicle Repair: Engine/Body(Class III)', 'Motor Vehicle Repair')\n",
    "train_data['LICENSE DESCRIPTION'] = train_data['LICENSE DESCRIPTION'].replace('Motor Vehicle Repair; Specialty(Class I)', 'Motor Vehicle Repair')\n",
    "train_data['LICENSE DESCRIPTION'] = train_data['LICENSE DESCRIPTION'].replace('Day Care Center Under 2 Years', 'Day Care Center')\n",
    "train_data['LICENSE DESCRIPTION'] = train_data['LICENSE DESCRIPTION'].replace('Day Care Center 2 - 6 Years', 'Day Care Center')\n",
    "train_data['LICENSE DESCRIPTION'] = train_data['LICENSE DESCRIPTION'].replace('Day Care Center Under 2 and 2 - 6 Years', 'Day Care Center')\n",
    "train_data['LICENSE DESCRIPTION'] = train_data['LICENSE DESCRIPTION'].replace('Peddler, non-food', 'Peddler')\n",
    "train_data['LICENSE DESCRIPTION'] = train_data['LICENSE DESCRIPTION'].replace('Peddler, non-food, special', 'Peddler')\n",
    "train_data['LICENSE DESCRIPTION'] = train_data['LICENSE DESCRIPTION'].replace('Peddler, food (fruits and vegtables only)', 'Peddler')\n",
    "train_data['LICENSE DESCRIPTION'] = train_data['LICENSE DESCRIPTION'].replace('Peddler,food - (fruits and vegetables only) - special', 'Peddler')\n",
    "train_data['LICENSE DESCRIPTION'] = train_data['LICENSE DESCRIPTION'].replace('Tire Facilty Class I (100 - 1,000 Tires)', 'Tire Facilty')\n",
    "train_data['LICENSE DESCRIPTION'] = train_data['LICENSE DESCRIPTION'].replace('Tire Facility Class II (1,001 - 5,000 Tires)', 'Tire Facilty')\n",
    "train_data['LICENSE DESCRIPTION'] = train_data['LICENSE DESCRIPTION'].replace('Tire Facility Class III (5,001 - More Tires)', 'Tire Facilty')\n",
    "train_data['LICENSE DESCRIPTION'] = train_data['LICENSE DESCRIPTION'].replace('Repossessor Class A', 'Repossessor')\n",
    "train_data['LICENSE DESCRIPTION'] = train_data['LICENSE DESCRIPTION'].replace('Repossessor Class B', 'Repossessor')\n",
    "train_data['LICENSE DESCRIPTION'] = train_data['LICENSE DESCRIPTION'].replace('Repossessor Class B Employee', 'Repossessor')\n",
    "train_data['LICENSE DESCRIPTION'] = train_data['LICENSE DESCRIPTION'].replace('Expediter - Class B', 'Expediter')\n",
    "train_data['LICENSE DESCRIPTION'] = train_data['LICENSE DESCRIPTION'].replace('Expediter - Class A', 'Expediter')\n",
    "train_data['LICENSE DESCRIPTION'] = train_data['LICENSE DESCRIPTION'].replace('Expediter - Class B Employee', 'Expediter')\n",
    "train_data['LICENSE DESCRIPTION'] = train_data['LICENSE DESCRIPTION'].replace('Itinerant Merchant, Class II', 'Itinerant Merchant')\n",
    "train_data['LICENSE DESCRIPTION'] = train_data['LICENSE DESCRIPTION'].replace('Itinerant Merchant, Class I', 'Itinerant Merchant')"
   ]
  },
  {
   "cell_type": "code",
   "execution_count": 44,
   "metadata": {},
   "outputs": [
    {
     "data": {
      "text/plain": [
       "Limited Business License                    50078\n",
       "Home Repair                                 10633\n",
       "Peddler                                      3782\n",
       "Home Occupation                              2809\n",
       "Retail Food Establishment                    2321\n",
       "                                            ...  \n",
       "Guard Dog Service                               1\n",
       "Not-For-Profit Club                             1\n",
       "Motor Vehicle Services License                  1\n",
       "Airport Pushcart Liquor O'Hare - Class A        1\n",
       "Airport Pushcart Liquor Midway - Class A        1\n",
       "Name: LICENSE DESCRIPTION, Length: 92, dtype: int64"
      ]
     },
     "execution_count": 44,
     "metadata": {},
     "output_type": "execute_result"
    }
   ],
   "source": [
    "train_data['LICENSE DESCRIPTION'].value_counts()"
   ]
  },
  {
   "cell_type": "code",
   "execution_count": 45,
   "metadata": {},
   "outputs": [],
   "source": [
    "test_data['LICENSE DESCRIPTION'] = test_data['LICENSE DESCRIPTION'].replace('Motor Vehicle Repair : Engine Only (Class II)', 'Motor Vehicle Repair')\n",
    "test_data['LICENSE DESCRIPTION'] = test_data['LICENSE DESCRIPTION'].replace('Motor Vehicle Repair: Engine/Body(Class III)', 'Motor Vehicle Repair')\n",
    "test_data['LICENSE DESCRIPTION'] = test_data['LICENSE DESCRIPTION'].replace('Motor Vehicle Repair; Specialty(Class I)', 'Motor Vehicle Repair')\n",
    "test_data['LICENSE DESCRIPTION'] = test_data['LICENSE DESCRIPTION'].replace('Day Care Center Under 2 Years', 'Day Care Center')\n",
    "test_data['LICENSE DESCRIPTION'] = test_data['LICENSE DESCRIPTION'].replace('Day Care Center 2 - 6 Years', 'Day Care Center')\n",
    "test_data['LICENSE DESCRIPTION'] = test_data['LICENSE DESCRIPTION'].replace('Day Care Center Under 2 and 2 - 6 Years', 'Day Care Center')\n",
    "test_data['LICENSE DESCRIPTION'] = test_data['LICENSE DESCRIPTION'].replace('Peddler, non-food', 'Peddler')\n",
    "test_data['LICENSE DESCRIPTION'] = test_data['LICENSE DESCRIPTION'].replace('Peddler, non-food, special', 'Peddler')\n",
    "test_data['LICENSE DESCRIPTION'] = test_data['LICENSE DESCRIPTION'].replace('Peddler, food (fruits and vegtables only)', 'Peddler')\n",
    "test_data['LICENSE DESCRIPTION'] = test_data['LICENSE DESCRIPTION'].replace('Peddler,food - (fruits and vegetables only) - special', 'Peddler')\n",
    "test_data['LICENSE DESCRIPTION'] = test_data['LICENSE DESCRIPTION'].replace('Tire Facilty Class I (100 - 1,000 Tires)', 'Tire Facilty')\n",
    "test_data['LICENSE DESCRIPTION'] = test_data['LICENSE DESCRIPTION'].replace('Tire Facility Class II (1,001 - 5,000 Tires)', 'Tire Facilty')\n",
    "test_data['LICENSE DESCRIPTION'] = test_data['LICENSE DESCRIPTION'].replace('Tire Facility Class III (5,001 - More Tires)', 'Tire Facilty')\n",
    "test_data['LICENSE DESCRIPTION'] = test_data['LICENSE DESCRIPTION'].replace('Repossessor Class A', 'Repossessor')\n",
    "test_data['LICENSE DESCRIPTION'] = test_data['LICENSE DESCRIPTION'].replace('Repossessor Class B', 'Repossessor')\n",
    "test_data['LICENSE DESCRIPTION'] = test_data['LICENSE DESCRIPTION'].replace('Repossessor Class B Employee', 'Repossessor')\n",
    "test_data['LICENSE DESCRIPTION'] = test_data['LICENSE DESCRIPTION'].replace('Expediter - Class B', 'Expediter')\n",
    "test_data['LICENSE DESCRIPTION'] = test_data['LICENSE DESCRIPTION'].replace('Expediter - Class A', 'Expediter')\n",
    "test_data['LICENSE DESCRIPTION'] = test_data['LICENSE DESCRIPTION'].replace('Expediter - Class B Employee', 'Expediter')\n",
    "test_data['LICENSE DESCRIPTION'] = test_data['LICENSE DESCRIPTION'].replace('Itinerant Merchant, Class II', 'Itinerant Merchant')\n",
    "test_data['LICENSE DESCRIPTION'] = test_data['LICENSE DESCRIPTION'].replace('Itinerant Merchant, Class I', 'Itinerant Merchant')"
   ]
  },
  {
   "cell_type": "code",
   "execution_count": 46,
   "metadata": {},
   "outputs": [
    {
     "data": {
      "text/plain": [
       "Limited Business License                    28094\n",
       "Retail Food Establishment                    4788\n",
       "Home Occupation                              3021\n",
       "Tobacco                                      2426\n",
       "Home Repair                                  1860\n",
       "                                            ...  \n",
       "License Manager                                 1\n",
       "Shared Housing Unit Operator                    1\n",
       "Airport Pushcart Liquor O'Hare - Class A        1\n",
       "Private Booting Operation                       1\n",
       "Navy Pier Kiosk License                         1\n",
       "Name: LICENSE DESCRIPTION, Length: 111, dtype: int64"
      ]
     },
     "execution_count": 46,
     "metadata": {},
     "output_type": "execute_result"
    }
   ],
   "source": [
    "test_data['LICENSE DESCRIPTION'].value_counts()"
   ]
  },
  {
   "cell_type": "code",
   "execution_count": 47,
   "metadata": {},
   "outputs": [],
   "source": [
    "def impute_nil(imp_nil_list):\n",
    "    for i in imp_nil_list:\n",
    "        train_data[i] = train_data[i].fillna(0)\n",
    "        test_data[i] = test_data[i].fillna(0)\n",
    "\n",
    "imp_nil_list = ['WARD', 'PRECINCT', 'POLICE DISTRICT', 'PAYMENT MONTH', 'WARD PRECINCT', 'LICENSE NUMBER']\n",
    "impute_nil(imp_nil_list)"
   ]
  },
  {
   "cell_type": "markdown",
   "metadata": {},
   "source": [
    "#### Label encoding for target variable"
   ]
  },
  {
   "cell_type": "code",
   "execution_count": 48,
   "metadata": {},
   "outputs": [],
   "source": [
    "from sklearn.preprocessing import LabelEncoder\n"
   ]
  },
  {
   "cell_type": "code",
   "execution_count": 49,
   "metadata": {},
   "outputs": [],
   "source": [
    "train_data[\"LICENSE STATUS\"] = train_data[\"LICENSE STATUS\"].replace('AAI', 0)\n",
    "train_data[\"LICENSE STATUS\"] = train_data[\"LICENSE STATUS\"].replace('AAC', 1)\n",
    "train_data[\"LICENSE STATUS\"] = train_data[\"LICENSE STATUS\"].replace('REV', 2)\n",
    "train_data[\"LICENSE STATUS\"] = train_data[\"LICENSE STATUS\"].replace('REA', 3)\n",
    "train_data[\"LICENSE STATUS\"] = train_data[\"LICENSE STATUS\"].replace('INQ', 4)"
   ]
  },
  {
   "cell_type": "code",
   "execution_count": 50,
   "metadata": {},
   "outputs": [],
   "source": [
    "def create_dummies(df):\n",
    "    for i in df.columns:\n",
    "        if df[i].dtypes=='object':\n",
    "            print(i,'encoded')\n",
    "            mask = ~df[i].isnull()\n",
    "            label_encoder = LabelEncoder() \n",
    "            try:\n",
    "                df[i][mask] = label_encoder.fit_transform(df[i][mask])\n",
    "                df[i] = df[i].astype(int)\n",
    "            except Exception as e:\n",
    "                print(e)\n",
    "    return df"
   ]
  },
  {
   "cell_type": "code",
   "execution_count": 51,
   "metadata": {},
   "outputs": [
    {
     "name": "stdout",
     "output_type": "stream",
     "text": [
      "CITY encoded\n",
      "STATE encoded\n",
      "WARD PRECINCT encoded\n",
      "argument must be a string or number\n",
      "LICENSE DESCRIPTION encoded\n"
     ]
    },
    {
     "name": "stderr",
     "output_type": "stream",
     "text": [
      "C:\\Users\\mypc\\Anaconda3\\lib\\site-packages\\ipykernel_launcher.py:8: SettingWithCopyWarning: \n",
      "A value is trying to be set on a copy of a slice from a DataFrame\n",
      "\n",
      "See the caveats in the documentation: http://pandas.pydata.org/pandas-docs/stable/user_guide/indexing.html#returning-a-view-versus-a-copy\n",
      "  \n"
     ]
    },
    {
     "name": "stdout",
     "output_type": "stream",
     "text": [
      "APPLICATION TYPE encoded\n",
      "CONDITIONAL APPROVAL encoded\n",
      "LEGAL TYPE encoded\n"
     ]
    }
   ],
   "source": [
    "train_data = create_dummies(train_data)"
   ]
  },
  {
   "cell_type": "code",
   "execution_count": 52,
   "metadata": {},
   "outputs": [
    {
     "name": "stdout",
     "output_type": "stream",
     "text": [
      "CITY encoded\n",
      "STATE encoded\n",
      "WARD PRECINCT encoded\n",
      "argument must be a string or number\n",
      "LICENSE DESCRIPTION encoded\n",
      "APPLICATION TYPE encoded\n",
      "CONDITIONAL APPROVAL encoded\n"
     ]
    },
    {
     "name": "stderr",
     "output_type": "stream",
     "text": [
      "C:\\Users\\mypc\\Anaconda3\\lib\\site-packages\\ipykernel_launcher.py:8: SettingWithCopyWarning: \n",
      "A value is trying to be set on a copy of a slice from a DataFrame\n",
      "\n",
      "See the caveats in the documentation: http://pandas.pydata.org/pandas-docs/stable/user_guide/indexing.html#returning-a-view-versus-a-copy\n",
      "  \n"
     ]
    },
    {
     "name": "stdout",
     "output_type": "stream",
     "text": [
      "LEGAL TYPE encoded\n"
     ]
    }
   ],
   "source": [
    "test_data = create_dummies(test_data)"
   ]
  },
  {
   "cell_type": "code",
   "execution_count": 53,
   "metadata": {},
   "outputs": [],
   "source": [
    "encoder = LabelEncoder()\n",
    "train_data[\"WARD PRECINCT\"] = encoder.fit_transform(train_data[\"WARD PRECINCT\"].astype(str))\n",
    "test_data[\"WARD PRECINCT\"] = encoder.fit_transform(test_data[\"WARD PRECINCT\"].astype(str))"
   ]
  },
  {
   "cell_type": "code",
   "execution_count": 54,
   "metadata": {},
   "outputs": [
    {
     "data": {
      "text/plain": [
       "0    55400\n",
       "1    30200\n",
       "2      290\n",
       "3        3\n",
       "4        2\n",
       "Name: LICENSE STATUS, dtype: int64"
      ]
     },
     "execution_count": 54,
     "metadata": {},
     "output_type": "execute_result"
    }
   ],
   "source": [
    "train_data[\"LICENSE STATUS\"].value_counts()"
   ]
  },
  {
   "cell_type": "markdown",
   "metadata": {},
   "source": [
    "#### Sampling the data\n",
    "##### We will oversample the data of REA, REV since we have very few records of those in the training set. We will also undersample the data of AAC and AAI since we have abundance of their data which may add bias to our model. Hence we will train our model on a very balanced data"
   ]
  },
  {
   "cell_type": "code",
   "execution_count": 55,
   "metadata": {},
   "outputs": [
    {
     "data": {
      "text/html": [
       "<div>\n",
       "<style scoped>\n",
       "    .dataframe tbody tr th:only-of-type {\n",
       "        vertical-align: middle;\n",
       "    }\n",
       "\n",
       "    .dataframe tbody tr th {\n",
       "        vertical-align: top;\n",
       "    }\n",
       "\n",
       "    .dataframe thead th {\n",
       "        text-align: right;\n",
       "    }\n",
       "</style>\n",
       "<table border=\"1\" class=\"dataframe\">\n",
       "  <thead>\n",
       "    <tr style=\"text-align: right;\">\n",
       "      <th></th>\n",
       "      <th>ACCOUNT NUMBER</th>\n",
       "      <th>SITE NUMBER</th>\n",
       "      <th>CITY</th>\n",
       "      <th>STATE</th>\n",
       "      <th>WARD</th>\n",
       "      <th>PRECINCT</th>\n",
       "      <th>WARD PRECINCT</th>\n",
       "      <th>POLICE DISTRICT</th>\n",
       "      <th>LICENSE CODE</th>\n",
       "      <th>LICENSE DESCRIPTION</th>\n",
       "      <th>...</th>\n",
       "      <th>CONDITIONAL APPROVAL</th>\n",
       "      <th>LICENSE STATUS</th>\n",
       "      <th>PAYMENT YEAR</th>\n",
       "      <th>PAYMENT MONTH</th>\n",
       "      <th>APPLICATION REQUIREMENTS COMPLETE YEAR</th>\n",
       "      <th>DATE ISSUED YEAR</th>\n",
       "      <th>LICENSE APPROVED YEAR</th>\n",
       "      <th>LICENSE STATUS CHANGE YEAR</th>\n",
       "      <th>LICENSE VALIDITY</th>\n",
       "      <th>LEGAL TYPE</th>\n",
       "    </tr>\n",
       "  </thead>\n",
       "  <tbody>\n",
       "    <tr>\n",
       "      <th>6087</th>\n",
       "      <td>372079</td>\n",
       "      <td>1</td>\n",
       "      <td>193</td>\n",
       "      <td>16</td>\n",
       "      <td>17.0</td>\n",
       "      <td>0.0</td>\n",
       "      <td>339</td>\n",
       "      <td>0.0</td>\n",
       "      <td>1006</td>\n",
       "      <td>72</td>\n",
       "      <td>...</td>\n",
       "      <td>0</td>\n",
       "      <td>2</td>\n",
       "      <td>2014.0</td>\n",
       "      <td>5.0</td>\n",
       "      <td>2014.0</td>\n",
       "      <td>2014</td>\n",
       "      <td>2014.0</td>\n",
       "      <td>2015.0</td>\n",
       "      <td>2.0</td>\n",
       "      <td>4</td>\n",
       "    </tr>\n",
       "    <tr>\n",
       "      <th>56448</th>\n",
       "      <td>308239</td>\n",
       "      <td>1</td>\n",
       "      <td>193</td>\n",
       "      <td>16</td>\n",
       "      <td>45.0</td>\n",
       "      <td>31.0</td>\n",
       "      <td>1851</td>\n",
       "      <td>16.0</td>\n",
       "      <td>1524</td>\n",
       "      <td>44</td>\n",
       "      <td>...</td>\n",
       "      <td>0</td>\n",
       "      <td>1</td>\n",
       "      <td>2006.0</td>\n",
       "      <td>8.0</td>\n",
       "      <td>2006.0</td>\n",
       "      <td>2006</td>\n",
       "      <td>2006.0</td>\n",
       "      <td>2007.0</td>\n",
       "      <td>1.0</td>\n",
       "      <td>1</td>\n",
       "    </tr>\n",
       "    <tr>\n",
       "      <th>18890</th>\n",
       "      <td>346762</td>\n",
       "      <td>1</td>\n",
       "      <td>193</td>\n",
       "      <td>16</td>\n",
       "      <td>35.0</td>\n",
       "      <td>60.0</td>\n",
       "      <td>1339</td>\n",
       "      <td>14.0</td>\n",
       "      <td>1524</td>\n",
       "      <td>44</td>\n",
       "      <td>...</td>\n",
       "      <td>0</td>\n",
       "      <td>2</td>\n",
       "      <td>2009.0</td>\n",
       "      <td>9.0</td>\n",
       "      <td>2009.0</td>\n",
       "      <td>2009</td>\n",
       "      <td>2009.0</td>\n",
       "      <td>2011.0</td>\n",
       "      <td>2.0</td>\n",
       "      <td>0</td>\n",
       "    </tr>\n",
       "    <tr>\n",
       "      <th>81466</th>\n",
       "      <td>9344</td>\n",
       "      <td>1</td>\n",
       "      <td>193</td>\n",
       "      <td>16</td>\n",
       "      <td>15.0</td>\n",
       "      <td>16.0</td>\n",
       "      <td>264</td>\n",
       "      <td>9.0</td>\n",
       "      <td>1010</td>\n",
       "      <td>41</td>\n",
       "      <td>...</td>\n",
       "      <td>0</td>\n",
       "      <td>2</td>\n",
       "      <td>2010.0</td>\n",
       "      <td>1.0</td>\n",
       "      <td>2009.0</td>\n",
       "      <td>2010</td>\n",
       "      <td>2010.0</td>\n",
       "      <td>2010.0</td>\n",
       "      <td>2.0</td>\n",
       "      <td>1</td>\n",
       "    </tr>\n",
       "    <tr>\n",
       "      <th>28426</th>\n",
       "      <td>270</td>\n",
       "      <td>1</td>\n",
       "      <td>193</td>\n",
       "      <td>16</td>\n",
       "      <td>6.0</td>\n",
       "      <td>50.0</td>\n",
       "      <td>2189</td>\n",
       "      <td>7.0</td>\n",
       "      <td>1006</td>\n",
       "      <td>72</td>\n",
       "      <td>...</td>\n",
       "      <td>0</td>\n",
       "      <td>2</td>\n",
       "      <td>2002.0</td>\n",
       "      <td>5.0</td>\n",
       "      <td>2002.0</td>\n",
       "      <td>2002</td>\n",
       "      <td>2002.0</td>\n",
       "      <td>2002.0</td>\n",
       "      <td>1.0</td>\n",
       "      <td>4</td>\n",
       "    </tr>\n",
       "  </tbody>\n",
       "</table>\n",
       "<p>5 rows × 22 columns</p>\n",
       "</div>"
      ],
      "text/plain": [
       "       ACCOUNT NUMBER  SITE NUMBER  CITY  STATE  WARD  PRECINCT  \\\n",
       "6087           372079            1   193     16  17.0       0.0   \n",
       "56448          308239            1   193     16  45.0      31.0   \n",
       "18890          346762            1   193     16  35.0      60.0   \n",
       "81466            9344            1   193     16  15.0      16.0   \n",
       "28426             270            1   193     16   6.0      50.0   \n",
       "\n",
       "       WARD PRECINCT  POLICE DISTRICT  LICENSE CODE  LICENSE DESCRIPTION  ...  \\\n",
       "6087             339              0.0          1006                   72  ...   \n",
       "56448           1851             16.0          1524                   44  ...   \n",
       "18890           1339             14.0          1524                   44  ...   \n",
       "81466            264              9.0          1010                   41  ...   \n",
       "28426           2189              7.0          1006                   72  ...   \n",
       "\n",
       "       CONDITIONAL APPROVAL  LICENSE STATUS  PAYMENT YEAR  PAYMENT MONTH  \\\n",
       "6087                      0               2        2014.0            5.0   \n",
       "56448                     0               1        2006.0            8.0   \n",
       "18890                     0               2        2009.0            9.0   \n",
       "81466                     0               2        2010.0            1.0   \n",
       "28426                     0               2        2002.0            5.0   \n",
       "\n",
       "       APPLICATION REQUIREMENTS COMPLETE YEAR  DATE ISSUED YEAR  \\\n",
       "6087                                   2014.0              2014   \n",
       "56448                                  2006.0              2006   \n",
       "18890                                  2009.0              2009   \n",
       "81466                                  2009.0              2010   \n",
       "28426                                  2002.0              2002   \n",
       "\n",
       "       LICENSE APPROVED YEAR  LICENSE STATUS CHANGE YEAR  LICENSE VALIDITY  \\\n",
       "6087                  2014.0                      2015.0               2.0   \n",
       "56448                 2006.0                      2007.0               1.0   \n",
       "18890                 2009.0                      2011.0               2.0   \n",
       "81466                 2010.0                      2010.0               2.0   \n",
       "28426                 2002.0                      2002.0               1.0   \n",
       "\n",
       "       LEGAL TYPE  \n",
       "6087            4  \n",
       "56448           1  \n",
       "18890           0  \n",
       "81466           1  \n",
       "28426           4  \n",
       "\n",
       "[5 rows x 22 columns]"
      ]
     },
     "execution_count": 55,
     "metadata": {},
     "output_type": "execute_result"
    }
   ],
   "source": [
    "train_data = train_data.sample(frac=1)\n",
    "\n",
    "# Amount of fraud classes in proportion.\n",
    "fraud_df = train_data[train_data['LICENSE STATUS'] == 4]\n",
    "pending_df = train_data[train_data['LICENSE STATUS'] == 3]\n",
    "accepted_df = train_data[train_data['LICENSE STATUS'] == 2]\n",
    "\n",
    "non_fraud_df = train_data[train_data['LICENSE STATUS'] == 1][:290]\n",
    "non_accepted_df = train_data[train_data['LICENSE STATUS'] == 0][:300]\n",
    "\n",
    "normal_distributed_df = pd.concat([fraud_df, pending_df, accepted_df, non_fraud_df, non_accepted_df, fraud_df,\n",
    "                                  fraud_df, fraud_df, fraud_df, pending_df, pending_df, fraud_df, pending_df])\n",
    "\n",
    "# Shuffle dataframe rows\n",
    "new_df = normal_distributed_df.sample(frac=1, random_state=42)\n",
    "\n",
    "new_df.head()"
   ]
  },
  {
   "cell_type": "code",
   "execution_count": 56,
   "metadata": {},
   "outputs": [
    {
     "data": {
      "image/png": "[encoded data removed]",
      "text/plain": [
       "<Figure size 432x288 with 1 Axes>"
      ]
     },
     "metadata": {
      "needs_background": "light"
     },
     "output_type": "display_data"
    }
   ],
   "source": [
    "plt.title('Distribution of target variable')\n",
    "sns.countplot(new_df['LICENSE STATUS'])\n",
    "plt.show()"
   ]
  },
  {
   "cell_type": "code",
   "execution_count": 57,
   "metadata": {},
   "outputs": [
    {
     "data": {
      "text/plain": [
       "0    300\n",
       "2    290\n",
       "1    290\n",
       "4     12\n",
       "3     12\n",
       "Name: LICENSE STATUS, dtype: int64"
      ]
     },
     "execution_count": 57,
     "metadata": {},
     "output_type": "execute_result"
    }
   ],
   "source": [
    "new_df['LICENSE STATUS'].value_counts()"
   ]
  },
  {
   "cell_type": "code",
   "execution_count": 58,
   "metadata": {},
   "outputs": [],
   "source": [
    "col_list = ['PAYMENT YEAR', 'APPLICATION REQUIREMENTS COMPLETE YEAR', 'LICENSE APPROVED YEAR']\n",
    "new_df = new_df.drop(col_list, axis=1)\n",
    "test_data = test_data.drop(col_list, axis=1)"
   ]
  },
  {
   "cell_type": "code",
   "execution_count": 59,
   "metadata": {},
   "outputs": [
    {
     "data": {
      "image/png": "[encoded data removed]",
      "text/plain": [
       "<Figure size 1440x1440 with 2 Axes>"
      ]
     },
     "metadata": {
      "needs_background": "light"
     },
     "output_type": "display_data"
    }
   ],
   "source": [
    "sub_sample_corr = new_df.corr()\n",
    "plt.figure(figsize=(20,20))\n",
    "sns.heatmap(sub_sample_corr, cbar=True, square= True, fmt='.1f', annot=True, annot_kws={'size':20}, cmap='Greens')\n",
    "plt.title('Subsample Correlation Matrix \\n (use for reference)', fontsize=14)\n",
    "plt.show()"
   ]
  },
  {
   "cell_type": "markdown",
   "metadata": {},
   "source": [
    "## Model Building "
   ]
  },
  {
   "cell_type": "code",
   "execution_count": 60,
   "metadata": {},
   "outputs": [],
   "source": [
    "X = new_df.drop('LICENSE STATUS', axis=1)\n",
    "y = new_df['LICENSE STATUS']"
   ]
  },
  {
   "cell_type": "code",
   "execution_count": 61,
   "metadata": {},
   "outputs": [],
   "source": [
    "from sklearn import metrics\n",
    "from sklearn.model_selection import GridSearchCV, RandomizedSearchCV\n",
    "from sklearn.model_selection import StratifiedKFold\n",
    "from sklearn.model_selection import train_test_split\n",
    "from sklearn.metrics import precision_score, recall_score, f1_score, roc_auc_score, accuracy_score, classification_report"
   ]
  },
  {
   "cell_type": "code",
   "execution_count": 62,
   "metadata": {},
   "outputs": [],
   "source": [
    "\n",
    "# Splitting the data into training set and testset\n",
    "\n",
    "X_train, X_test, y_train, y_test = train_test_split(X,y, test_size = 0.25, random_state = 42)\n"
   ]
  },
  {
   "cell_type": "markdown",
   "metadata": {},
   "source": [
    "## Xg boost "
   ]
  },
  {
   "cell_type": "code",
   "execution_count": 63,
   "metadata": {},
   "outputs": [
    {
     "data": {
      "text/plain": [
       "XGBClassifier(alpha=10, base_score=0.5, booster='gbtree', colsample_bylevel=1,\n",
       "              colsample_bynode=1, colsample_bytree=0.3, gamma=0,\n",
       "              learning_rate=0.1, max_delta_step=0, max_depth=5,\n",
       "              min_child_weight=1, missing=None, n_estimators=10, n_jobs=1,\n",
       "              nthread=None, objective='multi:softprob', random_state=0,\n",
       "              reg_alpha=0, reg_lambda=1, scale_pos_weight=1, seed=None,\n",
       "              silent=None, subsample=1, verbosity=1)"
      ]
     },
     "execution_count": 63,
     "metadata": {},
     "output_type": "execute_result"
    }
   ],
   "source": [
    "from xgboost import XGBClassifier\n",
    "import xgboost as xgb\n",
    "from sklearn.metrics import mean_squared_error\n",
    "\n",
    "from sklearn.metrics import classification_report\n",
    "xb_cla = xgb.XGBClassifier()\n",
    "xg_cla= xgb.XGBClassifier(objective = 'reg:linear', colsample_bytree = 0.3, learning_rate = 0.1,max_depth = 5,alpha = 10, n_estimators = 10)\n",
    "xg_cla.fit(X_train, y_train)"
   ]
  },
  {
   "cell_type": "code",
   "execution_count": 64,
   "metadata": {},
   "outputs": [],
   "source": [
    "\n",
    "# predict the labels on train dataset\n",
    "pred_train = xg_cla.predict(X_train)\n",
    "\n",
    "# predict the labels on validation dataset\n",
    "pred_val = xg_cla.predict(X_test)\n"
   ]
  },
  {
   "cell_type": "markdown",
   "metadata": {},
   "source": [
    "### Here Target is multiclass F1 score won't work on multiclass but average='binary' will choose another average setting, one of [None, 'micro', 'macro', 'weighted']\n",
    "\n"
   ]
  },
  {
   "cell_type": "code",
   "execution_count": 65,
   "metadata": {},
   "outputs": [
    {
     "name": "stdout",
     "output_type": "stream",
     "text": [
      "              precision    recall  f1-score   support\n",
      "\n",
      "     class 0       0.93      0.96      0.94       222\n",
      "     class 1       0.93      0.84      0.88       223\n",
      "     class 2       0.91      0.97      0.94       212\n",
      "     class 3       1.00      0.70      0.82        10\n",
      "      class4       1.00      1.00      1.00        11\n",
      "\n",
      "    accuracy                           0.92       678\n",
      "   macro avg       0.95      0.89      0.92       678\n",
      "weighted avg       0.92      0.92      0.92       678\n",
      "\n",
      "              precision    recall  f1-score   support\n",
      "\n",
      "     class 0       0.93      0.88      0.91        78\n",
      "     class 1       0.81      0.84      0.82        67\n",
      "     class 2       0.91      0.95      0.93        78\n",
      "     class 3       1.00      0.50      0.67         2\n",
      "      class4       1.00      1.00      1.00         1\n",
      "\n",
      "    accuracy                           0.89       226\n",
      "   macro avg       0.93      0.83      0.87       226\n",
      "weighted avg       0.89      0.89      0.89       226\n",
      "\n"
     ]
    }
   ],
   "source": [
    "print(classification_report(y_train, pred_train,target_names=['class 0','class 1','class 2','class 3','class4']))\n",
    "print(classification_report(y_test, pred_val,target_names=['class 0','class 1','class 2','class 3','class4']))"
   ]
  },
  {
   "cell_type": "code",
   "execution_count": 66,
   "metadata": {},
   "outputs": [],
   "source": [
    "y_pred = xg_cla.predict(X_test)"
   ]
  },
  {
   "cell_type": "code",
   "execution_count": 67,
   "metadata": {},
   "outputs": [
    {
     "name": "stdout",
     "output_type": "stream",
     "text": [
      "0.9218289085545722\n",
      "0.8893805309734514\n"
     ]
    }
   ],
   "source": [
    "train_Xgbm_pred =xg_cla.predict(X_train)\n",
    "test_Xgbm_pred = xg_cla.predict(X_test)\n",
    "\n",
    "print(xg_cla.score(X_train, y_train))\n",
    "print(xg_cla.score(X_test, y_test))"
   ]
  },
  {
   "cell_type": "markdown",
   "metadata": {},
   "source": [
    "### Confusion matrix "
   ]
  },
  {
   "cell_type": "code",
   "execution_count": 70,
   "metadata": {},
   "outputs": [],
   "source": [
    "from sklearn.metrics import confusion_matrix\n",
    "def draw_cm(actual, predicted):\n",
    "    cm = confusion_matrix( actual, predicted, [1,0]).T\n",
    "    sns.heatmap(cm, annot=True,  fmt='.2f', xticklabels = [\"Yes\",\"No\"] , yticklabels = [\"Yes\",\"No\"] )\n",
    "    plt.ylabel('Predicted')\n",
    "    plt.xlabel('Actual')\n",
    "    plt.show()"
   ]
  },
  {
   "cell_type": "code",
   "execution_count": 71,
   "metadata": {},
   "outputs": [
    {
     "name": "stdout",
     "output_type": "stream",
     "text": [
      "[[214   8   0   0   0]\n",
      " [ 17 188  18   0   0]\n",
      " [  0   7 205   0   0]\n",
      " [  0   0   3   7   0]\n",
      " [  0   0   0   0  11]]\n",
      "[[69  9  0  0  0]\n",
      " [ 5 56  6  0  0]\n",
      " [ 0  4 74  0  0]\n",
      " [ 0  0  1  1  0]\n",
      " [ 0  0  0  0  1]]\n"
     ]
    }
   ],
   "source": [
    "print(confusion_matrix(y_true=y_train, y_pred = train_Xgbm_pred))\n",
    "confusion_matrix_test = confusion_matrix(y_true=y_test, y_pred =  test_Xgbm_pred)\n",
    "print(confusion_matrix_test)\n"
   ]
  },
  {
   "cell_type": "code",
   "execution_count": 72,
   "metadata": {},
   "outputs": [],
   "source": [
    "# Predicting on the test dataset\n",
    "my_pred = xg_cla.predict(test_data)"
   ]
  },
  {
   "cell_type": "code",
   "execution_count": 73,
   "metadata": {},
   "outputs": [],
   "source": [
    "my_submission['LICENSE STATUS'] = my_pred"
   ]
  },
  {
   "cell_type": "code",
   "execution_count": 74,
   "metadata": {},
   "outputs": [
    {
     "data": {
      "text/plain": [
       "(57239, 2)"
      ]
     },
     "execution_count": 74,
     "metadata": {},
     "output_type": "execute_result"
    }
   ],
   "source": [
    "my_submission.shape"
   ]
  },
  {
   "cell_type": "code",
   "execution_count": 75,
   "metadata": {},
   "outputs": [],
   "source": [
    "my_submission['LICENSE STATUS'] = my_submission['LICENSE STATUS'].replace(0, 'AAI')\n",
    "my_submission['LICENSE STATUS'] = my_submission['LICENSE STATUS'].replace(1, 'AAC')\n",
    "my_submission['LICENSE STATUS'] = my_submission['LICENSE STATUS'].replace(2, 'REV')\n",
    "my_submission['LICENSE STATUS'] = my_submission['LICENSE STATUS'].replace(3, 'REA')\n",
    "my_submission['LICENSE STATUS'] = my_submission['LICENSE STATUS'].replace(4, 'INQ')"
   ]
  },
  {
   "cell_type": "code",
   "execution_count": 76,
   "metadata": {},
   "outputs": [],
   "source": [
    "my_submission.to_csv('xgboost_submission.csv', index=False)"
   ]
  },
  {
   "cell_type": "markdown",
   "metadata": {},
   "source": [
    "## Random forest"
   ]
  },
  {
   "cell_type": "code",
   "execution_count": 77,
   "metadata": {},
   "outputs": [],
   "source": [
    "from sklearn.ensemble import RandomForestClassifier"
   ]
  },
  {
   "cell_type": "code",
   "execution_count": 78,
   "metadata": {},
   "outputs": [],
   "source": [
    "rf = RandomForestClassifier()\n",
    "param_grid_rf = {'n_estimators': [4, 6, 9, 10, 15], \n",
    "              'max_features': ['log2', 'sqrt','auto'], \n",
    "              'criterion': ['entropy', 'gini'],\n",
    "              'max_depth': [2, 3, 5, 10], \n",
    "              'min_samples_split': [2, 3, 5],\n",
    "              'min_samples_leaf': [1, 5, 8]}\n",
    "\n",
    "classifiers = GridSearchCV(rf,param_grid=param_grid_rf,cv=5)"
   ]
  },
  {
   "cell_type": "code",
   "execution_count": 79,
   "metadata": {},
   "outputs": [
    {
     "name": "stdout",
     "output_type": "stream",
     "text": [
      "Wall time: 3min 34s\n"
     ]
    },
    {
     "data": {
      "text/plain": [
       "GridSearchCV(cv=5, error_score=nan,\n",
       "             estimator=RandomForestClassifier(bootstrap=True, ccp_alpha=0.0,\n",
       "                                              class_weight=None,\n",
       "                                              criterion='gini', max_depth=None,\n",
       "                                              max_features='auto',\n",
       "                                              max_leaf_nodes=None,\n",
       "                                              max_samples=None,\n",
       "                                              min_impurity_decrease=0.0,\n",
       "                                              min_impurity_split=None,\n",
       "                                              min_samples_leaf=1,\n",
       "                                              min_samples_split=2,\n",
       "                                              min_weight_fraction_leaf=0.0,\n",
       "                                              n_estimators=100, n_jobs=None,\n",
       "                                              oob_score=False,\n",
       "                                              random_state=None, verbose=0,\n",
       "                                              warm_start=False),\n",
       "             iid='deprecated', n_jobs=None,\n",
       "             param_grid={'criterion': ['entropy', 'gini'],\n",
       "                         'max_depth': [2, 3, 5, 10],\n",
       "                         'max_features': ['log2', 'sqrt', 'auto'],\n",
       "                         'min_samples_leaf': [1, 5, 8],\n",
       "                         'min_samples_split': [2, 3, 5],\n",
       "                         'n_estimators': [4, 6, 9, 10, 15]},\n",
       "             pre_dispatch='2*n_jobs', refit=True, return_train_score=False,\n",
       "             scoring=None, verbose=0)"
      ]
     },
     "execution_count": 79,
     "metadata": {},
     "output_type": "execute_result"
    }
   ],
   "source": [
    "%%time\n",
    "classifiers.fit(X_train,y_train)"
   ]
  },
  {
   "cell_type": "code",
   "execution_count": 80,
   "metadata": {},
   "outputs": [],
   "source": [
    "predictions = classifiers.predict(X_train)\n",
    "predictions1 = classifiers.predict(X_test)"
   ]
  },
  {
   "cell_type": "code",
   "execution_count": 81,
   "metadata": {},
   "outputs": [
    {
     "name": "stdout",
     "output_type": "stream",
     "text": [
      "Train_Accuracy : 0.9926253687315634\n",
      "Test_Accuracy : 0.8805309734513275\n"
     ]
    }
   ],
   "source": [
    "print(f'Train_Accuracy :',accuracy_score(y_train,predictions))\n",
    "print(f'Test_Accuracy :',accuracy_score(y_test,predictions1))"
   ]
  },
  {
   "cell_type": "code",
   "execution_count": 82,
   "metadata": {},
   "outputs": [
    {
     "name": "stdout",
     "output_type": "stream",
     "text": [
      "              precision    recall  f1-score   support\n",
      "\n",
      "     class 0       1.00      1.00      1.00       222\n",
      "     class 1       0.99      0.99      0.99       223\n",
      "     class 2       0.99      0.99      0.99       212\n",
      "     class 3       1.00      1.00      1.00        10\n",
      "      class4       1.00      1.00      1.00        11\n",
      "\n",
      "    accuracy                           0.99       678\n",
      "   macro avg       1.00      1.00      1.00       678\n",
      "weighted avg       0.99      0.99      0.99       678\n",
      "\n",
      "              precision    recall  f1-score   support\n",
      "\n",
      "     class 0       0.97      0.92      0.95        78\n",
      "     class 1       0.78      0.84      0.81        67\n",
      "     class 2       0.88      0.87      0.88        78\n",
      "     class 3       1.00      1.00      1.00         2\n",
      "      class4       1.00      1.00      1.00         1\n",
      "\n",
      "    accuracy                           0.88       226\n",
      "   macro avg       0.93      0.93      0.93       226\n",
      "weighted avg       0.88      0.88      0.88       226\n",
      "\n"
     ]
    }
   ],
   "source": [
    "print(classification_report(y_train, predictions,target_names=['class 0','class 1','class 2','class 3','class4']))\n",
    "print(classification_report(y_test, predictions1,target_names=['class 0','class 1','class 2','class 3','class4']))"
   ]
  },
  {
   "cell_type": "code",
   "execution_count": 83,
   "metadata": {},
   "outputs": [],
   "source": [
    "y_pred = classifiers.predict(X_test)"
   ]
  },
  {
   "cell_type": "code",
   "execution_count": 84,
   "metadata": {},
   "outputs": [
    {
     "name": "stdout",
     "output_type": "stream",
     "text": [
      "0.9926253687315634\n",
      "0.8805309734513275\n"
     ]
    }
   ],
   "source": [
    "train_rf_pred =classifiers.predict(X_train)\n",
    "test_rf_pred = classifiers.predict(X_test)\n",
    "\n",
    "print(classifiers.score(X_train, y_train))\n",
    "print(classifiers.score(X_test, y_test))"
   ]
  },
  {
   "cell_type": "markdown",
   "metadata": {},
   "source": [
    "### Confusion matrix "
   ]
  },
  {
   "cell_type": "code",
   "execution_count": 85,
   "metadata": {},
   "outputs": [
    {
     "name": "stdout",
     "output_type": "stream",
     "text": [
      "[[222   0   0   0   0]\n",
      " [  0 220   3   0   0]\n",
      " [  0   2 210   0   0]\n",
      " [  0   0   0  10   0]\n",
      " [  0   0   0   0  11]]\n",
      "[[72  6  0  0  0]\n",
      " [ 2 56  9  0  0]\n",
      " [ 0 10 68  0  0]\n",
      " [ 0  0  0  2  0]\n",
      " [ 0  0  0  0  1]]\n"
     ]
    }
   ],
   "source": [
    "print(confusion_matrix(y_true=y_train, y_pred = train_rf_pred))\n",
    "confusion_matrix_test = confusion_matrix(y_true=y_test, y_pred =  test_rf_pred)\n",
    "print(confusion_matrix_test)\n"
   ]
  },
  {
   "cell_type": "code",
   "execution_count": 86,
   "metadata": {},
   "outputs": [],
   "source": [
    "#Predicting on the test dataset\n",
    "my_pred = classifiers.predict(test_data)"
   ]
  },
  {
   "cell_type": "code",
   "execution_count": 87,
   "metadata": {},
   "outputs": [],
   "source": [
    "my_submission['LICENSE STATUS'] = my_pred"
   ]
  },
  {
   "cell_type": "code",
   "execution_count": 88,
   "metadata": {},
   "outputs": [
    {
     "data": {
      "text/plain": [
       "(57239, 2)"
      ]
     },
     "execution_count": 88,
     "metadata": {},
     "output_type": "execute_result"
    }
   ],
   "source": [
    "my_submission.shape"
   ]
  },
  {
   "cell_type": "code",
   "execution_count": 89,
   "metadata": {},
   "outputs": [],
   "source": [
    "my_submission['LICENSE STATUS'] = my_submission['LICENSE STATUS'].replace(0, 'AAI')\n",
    "my_submission['LICENSE STATUS'] = my_submission['LICENSE STATUS'].replace(1, 'AAC')\n",
    "my_submission['LICENSE STATUS'] = my_submission['LICENSE STATUS'].replace(2, 'REV')\n",
    "my_submission['LICENSE STATUS'] = my_submission['LICENSE STATUS'].replace(3, 'REA')\n",
    "my_submission['LICENSE STATUS'] = my_submission['LICENSE STATUS'].replace(4, 'INQ')"
   ]
  },
  {
   "cell_type": "code",
   "execution_count": 90,
   "metadata": {},
   "outputs": [],
   "source": [
    "my_submission.to_csv('Randomforest_submission.csv', index=False)"
   ]
  },
  {
   "cell_type": "markdown",
   "metadata": {},
   "source": [
    "# Conclusion\n",
    "\n",
    "### As per the dataset concluded that Xg boost and Random forest are the best for Model Building. From overall analysis, the macro avg and weighted average of F1 score for Random forest is around 0.93 & 0.89 which is highest in predicting the License Status."
   ]
  },
  {
   "cell_type": "code",
   "execution_count": null,
   "metadata": {},
   "outputs": [],
   "source": []
  }
 ],
 "metadata": {
  "kernelspec": {
   "display_name": "Python 3",
   "language": "python",
   "name": "python3"
  },
  "language_info": {
   "codemirror_mode": {
    "name": "ipython",
    "version": 3
   },
   "file_extension": ".py",
   "mimetype": "text/x-python",
   "name": "python",
   "nbconvert_exporter": "python",
   "pygments_lexer": "ipython3",
   "version": "3.6.9"
  }
 },
 "nbformat": 4,
 "nbformat_minor": 2
}
